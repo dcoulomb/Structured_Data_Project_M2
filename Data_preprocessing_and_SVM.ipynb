{
 "cells": [
  {
   "cell_type": "markdown",
   "metadata": {},
   "source": [
    "# Structured Output Prediction of Anti-Cancer Drug Activity\n",
    "\n",
    "Anas Atmani, Benoît Choffin, Domitille Coulomb, Paul Roujansky"
   ]
  },
  {
   "cell_type": "code",
   "execution_count": 1,
   "metadata": {
    "collapsed": true
   },
   "outputs": [],
   "source": [
    "import numpy as np\n",
    "import matplotlib.pyplot as plt\n",
    "%matplotlib inline\n",
    "import seaborn as sns\n",
    "from scipy.sparse.csgraph import minimum_spanning_tree\n",
    "import time\n",
    "import seaborn as sns"
   ]
  },
  {
   "cell_type": "markdown",
   "metadata": {},
   "source": [
    "### Data\n",
    "\n",
    "**Input:**\n",
    "\n",
    "- We consider 2305 distinct molecules. Each of them has several physico-chemical and geometric properties that enables to build similarities between all molecules through a kernel. We end up with the (2305x2305) Gram matrix of the Tanimoto kernel.\n",
    "\n",
    "**Ouput:**\n",
    "\n",
    "- We have a total of 59 cancer cell lines for which we would like to predict the effect of each molecule (active/inactive). This last information is provided in a (2305x59) \"target\" matrix.\n",
    "\n",
    "- We also have external RNA-based data for each cancer cell line. By computing the (59x59) correlation matrix based on these features, we build a similarity graph between all cancer cell lines through a *maximum weight spanning tree* (MWST). As a quick note, the graph should not necesarrily be fully-connected which should considerably reduce computation time.\n",
    "\n",
    "### Modelling\n",
    "\n",
    "Two approaches:\n",
    "\n",
    "- take into account the similarities between the cancer cell lines and make use of this \"structure\" (goal of the article) through a MMCRF algorithm.\n",
    "- perform prediction indepently for each cancer cell line, through a standard classification algortihm such as SVM."
   ]
  },
  {
   "cell_type": "code",
   "execution_count": 257,
   "metadata": {
    "collapsed": false
   },
   "outputs": [],
   "source": [
    "X = np.loadtxt('data/ncicancer_input_kernel.txt')"
   ]
  },
  {
   "cell_type": "code",
   "execution_count": 258,
   "metadata": {
    "collapsed": true
   },
   "outputs": [],
   "source": [
    "Y_reg = np.loadtxt('data/ncicancer_targets.txt')"
   ]
  },
  {
   "cell_type": "code",
   "execution_count": 4,
   "metadata": {
    "collapsed": false
   },
   "outputs": [
    {
     "data": {
      "text/plain": [
       "(2305, 2305)"
      ]
     },
     "execution_count": 4,
     "metadata": {},
     "output_type": "execute_result"
    }
   ],
   "source": [
    "X.shape"
   ]
  },
  {
   "cell_type": "code",
   "execution_count": 56,
   "metadata": {
    "collapsed": false
   },
   "outputs": [
    {
     "data": {
      "text/plain": [
       "(2305, 59)"
      ]
     },
     "execution_count": 56,
     "metadata": {},
     "output_type": "execute_result"
    }
   ],
   "source": [
    "Y_reg.shape"
   ]
  },
  {
   "cell_type": "code",
   "execution_count": 92,
   "metadata": {
    "collapsed": false
   },
   "outputs": [],
   "source": [
    "Y_class = np.ones(Y_reg.shape)"
   ]
  },
  {
   "cell_type": "code",
   "execution_count": 105,
   "metadata": {
    "collapsed": false
   },
   "outputs": [
    {
     "data": {
      "text/plain": [
       "((2305, 59), (2305, 59))"
      ]
     },
     "execution_count": 105,
     "metadata": {},
     "output_type": "execute_result"
    }
   ],
   "source": [
    "Y_reg.shape, Y_class.shape"
   ]
  },
  {
   "cell_type": "code",
   "execution_count": 118,
   "metadata": {
    "collapsed": false
   },
   "outputs": [],
   "source": [
    "'''\n",
    "We put the activity threshold at 60 (as per https://github.com/hongyusu/Molecular_Classification < Process Data < 10.)\n",
    "in order to get our classification targets (+1 if active, -1 if inactive)\n",
    "'''\n",
    "\n",
    "for i in range(Y_reg.shape[0]):\n",
    "    Y_class[i, np.where(Y_reg[i,:]<60)] = -1"
   ]
  },
  {
   "cell_type": "code",
   "execution_count": 119,
   "metadata": {
    "collapsed": false
   },
   "outputs": [
    {
     "data": {
      "text/plain": [
       "True"
      ]
     },
     "execution_count": 119,
     "metadata": {},
     "output_type": "execute_result"
    }
   ],
   "source": [
    "'''\n",
    "As all of the 2305 molecules is active for at least one cancer cell line, we check that our threshold holds,\n",
    "as data are the same that the ones from the previous link - Kongyu Su's git\n",
    "'''\n",
    "np.all(np.any(np.array([Y_class[i,:]==1 for i in range(Y_class.shape[0])]), 1))"
   ]
  },
  {
   "cell_type": "code",
   "execution_count": 255,
   "metadata": {
    "collapsed": false
   },
   "outputs": [],
   "source": [
    "np.savetxt('data/ncicancer_bin_targets.txt', Y_class)"
   ]
  },
  {
   "cell_type": "markdown",
   "metadata": {},
   "source": [
    "# First approach: SVM"
   ]
  },
  {
   "cell_type": "code",
   "execution_count": 121,
   "metadata": {
    "collapsed": true
   },
   "outputs": [],
   "source": [
    "from sklearn.svm import SVC"
   ]
  },
  {
   "cell_type": "code",
   "execution_count": 256,
   "metadata": {
    "collapsed": true
   },
   "outputs": [],
   "source": [
    "X = np.loadtxt('data/ncicancer_input_kernel.txt')\n",
    "Y_class = np.genfromtxt('data/ncicancer_bin_targets.txt')"
   ]
  },
  {
   "cell_type": "code",
   "execution_count": 166,
   "metadata": {
    "collapsed": false
   },
   "outputs": [],
   "source": [
    "'''\n",
    "We instanciate one model for every cancer cell line (59 in total)\n",
    "We fix C (the SVM hyperparameter) arbitrarily at 100 as per the original article (seems like a kind of optimal value).\n",
    "'''\n",
    "models = [SVC(C=100, kernel='precomputed') for i in range(Y_reg.shape[1])]"
   ]
  },
  {
   "cell_type": "code",
   "execution_count": 167,
   "metadata": {
    "collapsed": false
   },
   "outputs": [],
   "source": [
    "'''\n",
    "We train the models independently for each cancer cell line on the full dataset (i.e. no cross val), as per the article.\n",
    "'''\n",
    "[model.fit(X, Y_class[:,i]) for i, model in enumerate(models)];"
   ]
  },
  {
   "cell_type": "code",
   "execution_count": 180,
   "metadata": {
    "collapsed": false
   },
   "outputs": [],
   "source": [
    "Y_pred = np.array([model.predict(X) for model in models]).T"
   ]
  },
  {
   "cell_type": "code",
   "execution_count": 181,
   "metadata": {
    "collapsed": false
   },
   "outputs": [],
   "source": [
    "from sklearn.metrics import mean_squared_error, accuracy_score"
   ]
  },
  {
   "cell_type": "code",
   "execution_count": 182,
   "metadata": {
    "collapsed": false
   },
   "outputs": [],
   "source": [
    "accuracies = np.array([accuracy_score(Y_pred[:,i], Y_class[:,i]) for i in range(Y_reg.shape[1])])"
   ]
  },
  {
   "cell_type": "code",
   "execution_count": 195,
   "metadata": {
    "collapsed": false
   },
   "outputs": [
    {
     "data": {
      "text/plain": [
       "99.219824258244799"
      ]
     },
     "execution_count": 195,
     "metadata": {},
     "output_type": "execute_result"
    }
   ],
   "source": [
    "np.mean(accuracies)*100"
   ]
  },
  {
   "cell_type": "code",
   "execution_count": 204,
   "metadata": {
    "collapsed": false
   },
   "outputs": [
    {
     "name": "stdout",
     "output_type": "stream",
     "text": [
      "Accuracy\n",
      "---------------------------------------\n",
      "Average : \t \t 99.22%\n",
      "Standard deviation : \t 0.13%\n"
     ]
    }
   ],
   "source": [
    "print(\"Accuracy\")\n",
    "print(\"---------------------------------------\")\n",
    "print(\"Average : \\t \\t %.2f%%\" %(np.mean(accuracies)*100))\n",
    "print(\"Standard deviation : \\t %.2f%%\" %(np.std(accuracies*100)))"
   ]
  },
  {
   "cell_type": "code",
   "execution_count": 205,
   "metadata": {
    "collapsed": false
   },
   "outputs": [],
   "source": [
    "''' Idea : do cross validation in order not to overfit and to optimize C '''\n",
    "\n",
    "from sklearn.model_selection import train_test_split"
   ]
  },
  {
   "cell_type": "code",
   "execution_count": 206,
   "metadata": {
    "collapsed": true
   },
   "outputs": [],
   "source": [
    "X_train, X_test, y_train, y_test = train_test_split(X, Y, test_size=0.4, random_state=0)"
   ]
  },
  {
   "cell_type": "code",
   "execution_count": null,
   "metadata": {
    "collapsed": true
   },
   "outputs": [],
   "source": []
  },
  {
   "cell_type": "markdown",
   "metadata": {},
   "source": [
    "# Second approach: MMCRF"
   ]
  },
  {
   "cell_type": "code",
   "execution_count": 207,
   "metadata": {
    "collapsed": false
   },
   "outputs": [
    {
     "data": {
      "text/plain": [
       "'\\nncicancer_features: in case we want to recompute the Tanimoto kernel\\n'"
      ]
     },
     "execution_count": 207,
     "metadata": {},
     "output_type": "execute_result"
    }
   ],
   "source": [
    "ncicancer_activities = np.genfromtxt('data/external/ncicancer_activities.txt')\n",
    "ncicancer_aids = np.genfromtxt('data/external/ncicancer_aids.txt')\n",
    "ncicancer_features = np.genfromtxt('data/external/ncicancer_features.txt')\n",
    "ncicancer_targets = np.genfromtxt('data/external/ncicancer_targets.txt')\n",
    "ncicancer_aid2name = np.genfromtxt('data/external/id2aid2name.txt', dtype=\"i8,i8,S15\")\n",
    "'''\n",
    "ncicancer_features: in case we want to recompute the Tanimoto kernel\n",
    "'''"
   ]
  },
  {
   "cell_type": "code",
   "execution_count": 208,
   "metadata": {
    "collapsed": false
   },
   "outputs": [
    {
     "data": {
      "text/plain": [
       "(numpy.ndarray, numpy.ndarray, numpy.ndarray, numpy.ndarray, numpy.ndarray)"
      ]
     },
     "execution_count": 208,
     "metadata": {},
     "output_type": "execute_result"
    }
   ],
   "source": [
    "type(ncicancer_activities), type(ncicancer_aids), type(ncicancer_features), type(ncicancer_targets), type(ncicancer_aid2name)"
   ]
  },
  {
   "cell_type": "code",
   "execution_count": 209,
   "metadata": {
    "collapsed": false
   },
   "outputs": [
    {
     "name": "stdout",
     "output_type": "stream",
     "text": [
      "(43340, 73)\n",
      "(73,)\n",
      "(43340,)\n",
      "(43340, 73)\n",
      "(60,)\n"
     ]
    }
   ],
   "source": [
    "print(ncicancer_activities.shape)\n",
    "print(ncicancer_aids.shape)\n",
    "print(ncicancer_features.shape)\n",
    "print(ncicancer_targets.shape)\n",
    "print(ncicancer_aid2name.shape)"
   ]
  },
  {
   "cell_type": "code",
   "execution_count": 210,
   "metadata": {
    "collapsed": true
   },
   "outputs": [],
   "source": [
    "'''\n",
    "We try to map our internal data (Y) to the external data (ncicancer_...)\n",
    "- Y is Florence's data\n",
    "- ncicancer_activities is Hongyu Su's data\n",
    "'''\n",
    "\n",
    "Y = np.loadtxt('data/ncicancer_targets_ex0.txt')"
   ]
  },
  {
   "cell_type": "code",
   "execution_count": 211,
   "metadata": {
    "collapsed": false
   },
   "outputs": [
    {
     "data": {
      "text/plain": [
       "(2305, 59)"
      ]
     },
     "execution_count": 211,
     "metadata": {},
     "output_type": "execute_result"
    }
   ],
   "source": [
    "Y.shape"
   ]
  },
  {
   "cell_type": "code",
   "execution_count": 212,
   "metadata": {
    "collapsed": false
   },
   "outputs": [
    {
     "data": {
      "text/plain": [
       "(2305, 59)"
      ]
     },
     "execution_count": 212,
     "metadata": {},
     "output_type": "execute_result"
    }
   ],
   "source": [
    "Y.shape"
   ]
  },
  {
   "cell_type": "code",
   "execution_count": 213,
   "metadata": {
    "collapsed": false
   },
   "outputs": [
    {
     "name": "stdout",
     "output_type": "stream",
     "text": [
      "m \t matches \t runTime \t % matched/total\n",
      "--------------------------------------------------------\n",
      "2 \t 5 \t\t 2 s \t\t 5/2305\n",
      "3 \t 157 \t\t 8 s \t\t 162/2305\n",
      "4 \t 790 \t\t 7 s \t\t 952/2305\n",
      "5 \t 774 \t\t 4 s \t\t 1726/2305\n",
      "6 \t 309 \t\t 2 s \t\t 2035/2305\n",
      "7 \t 138 \t\t 1 s \t\t 2173/2305\n",
      "8 \t 41 \t\t 0 s \t\t 2214/2305\n",
      "9 \t 12 \t\t 0 s \t\t 2226/2305\n",
      "10 \t 20 \t\t 0 s \t\t 2246/2305\n",
      "11 \t 6 \t\t 0 s \t\t 2252/2305\n",
      "12 \t 4 \t\t 0 s \t\t 2256/2305\n",
      "13 \t 6 \t\t 0 s \t\t 2262/2305\n",
      "14 \t 2 \t\t 0 s \t\t 2264/2305\n",
      "16 \t 1 \t\t 0 s \t\t 2265/2305\n",
      "17 \t 2 \t\t 0 s \t\t 2267/2305\n",
      "18 \t 1 \t\t 0 s \t\t 2268/2305\n",
      "19 \t 4 \t\t 0 s \t\t 2272/2305\n",
      "20 \t 2 \t\t 0 s \t\t 2274/2305\n",
      "21 \t 2 \t\t 0 s \t\t 2276/2305\n",
      "22 \t 1 \t\t 0 s \t\t 2277/2305\n",
      "23 \t 1 \t\t 0 s \t\t 2278/2305\n",
      "24 \t 1 \t\t 0 s \t\t 2279/2305\n",
      "25 \t 5 \t\t 0 s \t\t 2284/2305\n",
      "30 \t 1 \t\t 0 s \t\t 2285/2305\n",
      "31 \t 2 \t\t 0 s \t\t 2287/2305\n",
      "34 \t 2 \t\t 0 s \t\t 2289/2305\n",
      "39 \t 1 \t\t 0 s \t\t 2290/2305\n",
      "44 \t 3 \t\t 0 s \t\t 2293/2305\n",
      "48 \t 1 \t\t 0 s \t\t 2294/2305\n",
      "49 \t 3 \t\t 0 s \t\t 2297/2305\n",
      "50 \t 3 \t\t 0 s \t\t 2300/2305\n",
      "53 \t 2 \t\t 0 s \t\t 2302/2305\n",
      "55 \t 1 \t\t 0 s \t\t 2303/2305\n",
      "56 \t 1 \t\t 0 s \t\t 2304/2305\n",
      "Complete : 2304 matches - 1 remaining\n"
     ]
    }
   ],
   "source": [
    "single = list()\n",
    "\n",
    "idx_Y = np.arange(Y.shape[0])\n",
    "\n",
    "tmp = Y.copy()\n",
    "\n",
    "max_m = 59\n",
    "\n",
    "m = 0\n",
    "l = 0\n",
    "\n",
    "print(\"m \\t matches \\t runTime \\t % matched/total\")\n",
    "print(\"--------------------------------------------------------\")\n",
    "\n",
    "while np.logical_and(m<=max_m, l<=Y.shape[0]):\n",
    "    \n",
    "    startTime = time.time()\n",
    "    \n",
    "    test = [[i, idx_Y[i], np.where(np.all(ncicancer_activities[:,:m]==tmp[i,:m], axis=1))] for i in range(tmp.shape[0])]\n",
    "    idx = [(i, idx1, np.array(idx2)[0][0]) for i, idx1, idx2 in test if np.array(idx2).shape[1]==1]\n",
    "    if idx!=[]:\n",
    "        single.append(idx)\n",
    "        output = [i for i, idx1, idx2 in idx]\n",
    "        tmp = np.delete(tmp, np.array(output), axis=0)\n",
    "        idx_Y = np.delete(idx_Y, np.array(output))\n",
    "\n",
    "    m += 1\n",
    "    l += len(idx)\n",
    "    \n",
    "    runTime = time.time() - startTime\n",
    "    \n",
    "    if len(idx)>0:\n",
    "        print(\"%d \\t %d \\t\\t %d s \\t\\t %d/%d\" %(m, len(idx), runTime, l, Y.shape[0]))\n",
    "    \n",
    "print(\"Complete : %d matches - %d remaining\" %(l, tmp.shape[0]))"
   ]
  },
  {
   "cell_type": "code",
   "execution_count": 214,
   "metadata": {
    "collapsed": false
   },
   "outputs": [],
   "source": [
    "singles = np.vstack(single)[:,1:]"
   ]
  },
  {
   "cell_type": "code",
   "execution_count": 215,
   "metadata": {
    "collapsed": false
   },
   "outputs": [
    {
     "data": {
      "text/plain": [
       "(2304, 2)"
      ]
     },
     "execution_count": 215,
     "metadata": {},
     "output_type": "execute_result"
    }
   ],
   "source": [
    "singles.shape"
   ]
  },
  {
   "cell_type": "code",
   "execution_count": 216,
   "metadata": {
    "collapsed": false
   },
   "outputs": [
    {
     "data": {
      "text/plain": [
       "array([[1733, 2530],\n",
       "       [1734, 2531],\n",
       "       [1735, 2532],\n",
       "       ..., \n",
       "       [1866,  496],\n",
       "       [  31, 1468],\n",
       "       [ 100, 2398]], dtype=int64)"
      ]
     },
     "execution_count": 216,
     "metadata": {},
     "output_type": "execute_result"
    }
   ],
   "source": [
    "'''\n",
    "Pairs of : (molecule index in \"Y\", molecule index in \"ncicancer_activities\")\n",
    "where :\n",
    "- dummy index\n",
    "- Y is Florence's data\n",
    "- ncicancer_activities is Hongyu Su's data\n",
    "\n",
    "Comment:\n",
    "One molecule is unmatched (in vector tmp), we remove it\n",
    "\n",
    "'''\n",
    "singles"
   ]
  },
  {
   "cell_type": "code",
   "execution_count": 218,
   "metadata": {
    "collapsed": false
   },
   "outputs": [
    {
     "name": "stdout",
     "output_type": "stream",
     "text": [
      "All good.\n"
     ]
    }
   ],
   "source": [
    "''' We look for potential doublons '''\n",
    "if not np.logical_and(np.unique(singles[:,0]).shape==2304, np.unique(singles[:,1]).shape==2304):\n",
    "    print(\"All good.\")\n",
    "else:\n",
    "    print(\"Warning: doublons!\")"
   ]
  },
  {
   "cell_type": "code",
   "execution_count": 219,
   "metadata": {
    "collapsed": false
   },
   "outputs": [
    {
     "data": {
      "text/plain": [
       "array([[1733, 2530],\n",
       "       [1734, 2531],\n",
       "       [1735, 2532],\n",
       "       ..., \n",
       "       [1866,  496],\n",
       "       [  31, 1468],\n",
       "       [ 100, 2398]], dtype=int64)"
      ]
     },
     "execution_count": 219,
     "metadata": {},
     "output_type": "execute_result"
    }
   ],
   "source": [
    "singles"
   ]
  },
  {
   "cell_type": "code",
   "execution_count": 220,
   "metadata": {
    "collapsed": false
   },
   "outputs": [
    {
     "data": {
      "text/plain": [
       "((2305, 59), (60,))"
      ]
     },
     "execution_count": 220,
     "metadata": {},
     "output_type": "execute_result"
    }
   ],
   "source": [
    "'''\n",
    "We take the first 59 cancer cell lines from the external data,\n",
    "as we assume that the cell lines are in order (they should be fortunately).\n",
    "'''\n",
    "Y.shape, ncicancer_aid2name.shape"
   ]
  },
  {
   "cell_type": "code",
   "execution_count": 221,
   "metadata": {
    "collapsed": false
   },
   "outputs": [],
   "source": [
    "ncicancer_aid2name = ncicancer_aid2name[:59]"
   ]
  },
  {
   "cell_type": "code",
   "execution_count": 222,
   "metadata": {
    "collapsed": false
   },
   "outputs": [
    {
     "data": {
      "text/plain": [
       "array([( 1,   1, b'LC:NCI_H23'), ( 2,   3, b'LC:NCI_H226'),\n",
       "       ( 3,   5, b'LC:NCI_H322M'), ( 4,   7, b'LC:NCI_H460'),\n",
       "       ( 5,   9, b'LC:HOP_62'), ( 6,  13, b'LC:HOP_92'),\n",
       "       ( 7,  15, b'LC:NCI_H522'), ( 8,  19, b'LC:A549'),\n",
       "       ( 9,  21, b'LC:EKVX'), (10,  23, b'ME:LOXIMVI'),\n",
       "       (11,  25, b'ME:M14'), (12,  29, b'ME:MALME_3M'),\n",
       "       (13,  31, b'ME:UACC_62'), (14,  33, b'ME:UACC_257'),\n",
       "       (15,  35, b'ME:SK_MEL_2'), (16,  37, b'ME:SK_MEL_5'),\n",
       "       (17,  39, b'ME:SK_MEL_28'), (18,  41, b'PR:PC_3'),\n",
       "       (19,  43, b'PR:DU_145'), (20,  45, b'CNS:SF_268'),\n",
       "       (21,  47, b'CNS:SF_295'), (22,  49, b'CNS:SF_539'),\n",
       "       (23,  53, b'CNS:SNB_19'), (24,  55, b'CNS:SNB_75'),\n",
       "       (25,  59, b'CNS:U251'), (26,  65, b'CO:HT29'),\n",
       "       (27,  67, b'CO:COLO205'), (28,  71, b'CO:HCT_15'),\n",
       "       (29,  73, b'CO:KM12'), (30,  77, b'CO:HCC_2998'),\n",
       "       (31,  79, b'CO:HCT_116'), (32,  81, b'CO:SW_620'),\n",
       "       (33,  83, b'BR:MCF7'), (34,  85, b'ME:MDA_MB_435'),\n",
       "       (35,  87, b'ME:MDA_N'), (36,  89, b'BR:BT_549'),\n",
       "       (37,  91, b'BR:T47D'), (38,  93, b'OV:NCI_ADR_RES'),\n",
       "       (39,  95, b'BR:MDA_MB_231'), (40,  97, b'BR:HS578T'),\n",
       "       (41,  99, b'OV:OVCAR_3'), (42, 101, b'OV:IGROV1'),\n",
       "       (43, 103, b'OV:SK_OV_3'), (44, 105, b'OV:OVCAR_4'),\n",
       "       (45, 107, b'OV:OVCAR_5'), (46, 109, b'OV:OVCAR_8'),\n",
       "       (47, 113, b'LE:RPMI_8226'), (48, 115, b'LE:SR'),\n",
       "       (49, 119, b'LE:CCRF_CEM'), (50, 121, b'LE:K_562'),\n",
       "       (51, 123, b'LE:MOLT_4'), (52, 125, b'LE:HL_60'),\n",
       "       (53, 129, b'RE:A498'), (54, 131, b'RE:CAKI_1'),\n",
       "       (55, 133, b'RE:RXF_393'), (56, 137, b'RE:786_0'),\n",
       "       (57, 139, b'RE:ACHN'), (58, 141, b'RE:TK_10'),\n",
       "       (59, 143, b'RE:UO_31')], \n",
       "      dtype=[('f0', '<i8'), ('f1', '<i8'), ('f2', 'S15')])"
      ]
     },
     "execution_count": 222,
     "metadata": {},
     "output_type": "execute_result"
    }
   ],
   "source": [
    "ncicancer_aid2name"
   ]
  },
  {
   "cell_type": "code",
   "execution_count": 223,
   "metadata": {
    "collapsed": true
   },
   "outputs": [],
   "source": [
    "cancerCL_names = [name.decode('UTF-8') for i,j,name in ncicancer_aid2name]"
   ]
  },
  {
   "cell_type": "code",
   "execution_count": 224,
   "metadata": {
    "collapsed": false
   },
   "outputs": [
    {
     "data": {
      "text/plain": [
       "['LC:NCI_H23',\n",
       " 'LC:NCI_H226',\n",
       " 'LC:NCI_H322M',\n",
       " 'LC:NCI_H460',\n",
       " 'LC:HOP_62',\n",
       " 'LC:HOP_92',\n",
       " 'LC:NCI_H522',\n",
       " 'LC:A549',\n",
       " 'LC:EKVX',\n",
       " 'ME:LOXIMVI',\n",
       " 'ME:M14',\n",
       " 'ME:MALME_3M',\n",
       " 'ME:UACC_62',\n",
       " 'ME:UACC_257',\n",
       " 'ME:SK_MEL_2',\n",
       " 'ME:SK_MEL_5',\n",
       " 'ME:SK_MEL_28',\n",
       " 'PR:PC_3',\n",
       " 'PR:DU_145',\n",
       " 'CNS:SF_268',\n",
       " 'CNS:SF_295',\n",
       " 'CNS:SF_539',\n",
       " 'CNS:SNB_19',\n",
       " 'CNS:SNB_75',\n",
       " 'CNS:U251',\n",
       " 'CO:HT29',\n",
       " 'CO:COLO205',\n",
       " 'CO:HCT_15',\n",
       " 'CO:KM12',\n",
       " 'CO:HCC_2998',\n",
       " 'CO:HCT_116',\n",
       " 'CO:SW_620',\n",
       " 'BR:MCF7',\n",
       " 'ME:MDA_MB_435',\n",
       " 'ME:MDA_N',\n",
       " 'BR:BT_549',\n",
       " 'BR:T47D',\n",
       " 'OV:NCI_ADR_RES',\n",
       " 'BR:MDA_MB_231',\n",
       " 'BR:HS578T',\n",
       " 'OV:OVCAR_3',\n",
       " 'OV:IGROV1',\n",
       " 'OV:SK_OV_3',\n",
       " 'OV:OVCAR_4',\n",
       " 'OV:OVCAR_5',\n",
       " 'OV:OVCAR_8',\n",
       " 'LE:RPMI_8226',\n",
       " 'LE:SR',\n",
       " 'LE:CCRF_CEM',\n",
       " 'LE:K_562',\n",
       " 'LE:MOLT_4',\n",
       " 'LE:HL_60',\n",
       " 'RE:A498',\n",
       " 'RE:CAKI_1',\n",
       " 'RE:RXF_393',\n",
       " 'RE:786_0',\n",
       " 'RE:ACHN',\n",
       " 'RE:TK_10',\n",
       " 'RE:UO_31']"
      ]
     },
     "execution_count": 224,
     "metadata": {},
     "output_type": "execute_result"
    }
   ],
   "source": [
    "'''\n",
    "List of cancer cell lines in order\n",
    "'''\n",
    "cancerCL_names"
   ]
  },
  {
   "cell_type": "code",
   "execution_count": 225,
   "metadata": {
    "collapsed": false
   },
   "outputs": [],
   "source": [
    "cancerCL_RNA = np.genfromtxt('data/external/cancerCL_RNA.csv', delimiter=';', skip_header=1)"
   ]
  },
  {
   "cell_type": "code",
   "execution_count": 226,
   "metadata": {
    "collapsed": false
   },
   "outputs": [
    {
     "data": {
      "text/plain": [
       "(457, 60)"
      ]
     },
     "execution_count": 226,
     "metadata": {},
     "output_type": "execute_result"
    }
   ],
   "source": [
    "cancerCL_RNA.shape"
   ]
  },
  {
   "cell_type": "code",
   "execution_count": 227,
   "metadata": {
    "collapsed": true
   },
   "outputs": [],
   "source": [
    "with open('data/external/cancerCL_names.txt') as f:\n",
    "    cancerCL_names_ext = f.readlines()\n",
    "cancerCL_names_ext = [x.strip() for x in cancerCL_names_ext]"
   ]
  },
  {
   "cell_type": "code",
   "execution_count": 228,
   "metadata": {
    "collapsed": false
   },
   "outputs": [
    {
     "data": {
      "text/plain": [
       "(60, 59)"
      ]
     },
     "execution_count": 228,
     "metadata": {},
     "output_type": "execute_result"
    }
   ],
   "source": [
    "'''\n",
    "One more cancer cell line in the RNA dataset\n",
    "'''\n",
    "len(cancerCL_names_ext), len(cancerCL_names)"
   ]
  },
  {
   "cell_type": "code",
   "execution_count": 229,
   "metadata": {
    "collapsed": false
   },
   "outputs": [],
   "source": [
    "matches = np.array([(i,j) for i in range(len(cancerCL_names)) for j in range(len(cancerCL_names_ext)) if cancerCL_names[i]==cancerCL_names_ext[j]])"
   ]
  },
  {
   "cell_type": "code",
   "execution_count": 230,
   "metadata": {
    "collapsed": false
   },
   "outputs": [
    {
     "data": {
      "text/plain": [
       "(59, 2)"
      ]
     },
     "execution_count": 230,
     "metadata": {},
     "output_type": "execute_result"
    }
   ],
   "source": [
    "'''\n",
    "matches\n",
    "'''\n",
    "matches.shape"
   ]
  },
  {
   "cell_type": "code",
   "execution_count": 231,
   "metadata": {
    "collapsed": false
   },
   "outputs": [],
   "source": [
    "RNA_matrix = cancerCL_RNA[:,matches[:,1]]"
   ]
  },
  {
   "cell_type": "code",
   "execution_count": 232,
   "metadata": {
    "collapsed": false
   },
   "outputs": [
    {
     "data": {
      "text/plain": [
       "(457, 59)"
      ]
     },
     "execution_count": 232,
     "metadata": {},
     "output_type": "execute_result"
    }
   ],
   "source": [
    "RNA_matrix.shape"
   ]
  },
  {
   "cell_type": "code",
   "execution_count": 233,
   "metadata": {
    "collapsed": false
   },
   "outputs": [
    {
     "data": {
      "text/plain": [
       "array([[  5.72,   8.38,  12.36, ...,   9.28,   9.94,  10.54],\n",
       "       [  7.45,   8.04,  12.32, ...,   8.55,  10.11,  10.63],\n",
       "       [  2.3 ,   9.15,   8.54, ...,   6.69,   7.94,   8.03],\n",
       "       ..., \n",
       "       [  5.33,   6.46,   5.87, ...,   2.3 ,   2.3 ,   2.3 ],\n",
       "       [  6.29,   7.45,   7.35, ...,   2.3 ,   5.58,   9.12],\n",
       "       [  2.3 ,   6.1 ,   5.81, ...,   2.3 ,   2.3 ,   2.3 ]])"
      ]
     },
     "execution_count": 233,
     "metadata": {},
     "output_type": "execute_result"
    }
   ],
   "source": [
    "RNA_matrix"
   ]
  },
  {
   "cell_type": "code",
   "execution_count": 234,
   "metadata": {
    "collapsed": false
   },
   "outputs": [],
   "source": [
    "RNA_correl_matrix = np.corrcoef(RNA_matrix, rowvar=0)"
   ]
  },
  {
   "cell_type": "code",
   "execution_count": 240,
   "metadata": {
    "collapsed": false
   },
   "outputs": [
    {
     "data": {
      "text/plain": [
       "(59, 59)"
      ]
     },
     "execution_count": 240,
     "metadata": {},
     "output_type": "execute_result"
    }
   ],
   "source": [
    "RNA_correl_matrix.shape"
   ]
  },
  {
   "cell_type": "code",
   "execution_count": 241,
   "metadata": {
    "collapsed": false
   },
   "outputs": [
    {
     "data": {
      "text/plain": [
       "array([[ 1.        ,  0.82826212,  0.86611257, ...,  0.8652913 ,\n",
       "         0.8910083 ,  0.87741896],\n",
       "       [ 0.82826212,  1.        ,  0.78416656, ...,  0.8054095 ,\n",
       "         0.83887939,  0.80604146],\n",
       "       [ 0.86611257,  0.78416656,  1.        , ...,  0.85313056,\n",
       "         0.89428307,  0.88120767],\n",
       "       ..., \n",
       "       [ 0.8652913 ,  0.8054095 ,  0.85313056, ...,  1.        ,\n",
       "         0.9258626 ,  0.91469322],\n",
       "       [ 0.8910083 ,  0.83887939,  0.89428307, ...,  0.9258626 ,\n",
       "         1.        ,  0.94502691],\n",
       "       [ 0.87741896,  0.80604146,  0.88120767, ...,  0.91469322,\n",
       "         0.94502691,  1.        ]])"
      ]
     },
     "execution_count": 241,
     "metadata": {},
     "output_type": "execute_result"
    }
   ],
   "source": [
    "RNA_correl_matrix"
   ]
  },
  {
   "cell_type": "code",
   "execution_count": 250,
   "metadata": {
    "collapsed": false
   },
   "outputs": [],
   "source": [
    "np.savetxt('data/ncicancer_cancerCL_corr.txt', RNA_correl_matrix)"
   ]
  },
  {
   "cell_type": "markdown",
   "metadata": {},
   "source": [
    "### Maximum spanning tree"
   ]
  },
  {
   "cell_type": "code",
   "execution_count": 236,
   "metadata": {
    "collapsed": true
   },
   "outputs": [],
   "source": [
    "import networkx as nx"
   ]
  },
  {
   "cell_type": "code",
   "execution_count": 49,
   "metadata": {
    "collapsed": false
   },
   "outputs": [],
   "source": [
    "G = nx.from_numpy_matrix(RNA_correl_matrix)"
   ]
  },
  {
   "cell_type": "code",
   "execution_count": 50,
   "metadata": {
    "collapsed": false
   },
   "outputs": [
    {
     "ename": "AttributeError",
     "evalue": "module 'networkx' has no attribute 'maximum_spanning_tree'",
     "output_type": "error",
     "traceback": [
      "\u001b[1;31m\u001b[0m",
      "\u001b[1;31mAttributeError\u001b[0mTraceback (most recent call last)",
      "\u001b[1;32m<ipython-input-50-264aac96fd65>\u001b[0m in \u001b[0;36m<module>\u001b[1;34m()\u001b[0m\n\u001b[1;32m----> 1\u001b[1;33m \u001b[0mnx\u001b[0m\u001b[1;33m.\u001b[0m\u001b[0mmaximum_spanning_tree\u001b[0m\u001b[1;33m(\u001b[0m\u001b[0mG\u001b[0m\u001b[1;33m)\u001b[0m\u001b[1;33m\u001b[0m\u001b[0m\n\u001b[0m",
      "\u001b[1;31mAttributeError\u001b[0m: module 'networkx' has no attribute 'maximum_spanning_tree'"
     ]
    }
   ],
   "source": [
    "nx.maximum_spanning_tree(G)"
   ]
  },
  {
   "cell_type": "code",
   "execution_count": 249,
   "metadata": {
    "collapsed": false
   },
   "outputs": [
    {
     "data": {
      "image/png": "[encoded data removed]",
      "text/plain": [
       "<matplotlib.figure.Figure at 0x218a6ad72e8>"
      ]
     },
     "metadata": {},
     "output_type": "display_data"
    }
   ],
   "source": [
    "nx.draw(G)"
   ]
  },
  {
   "cell_type": "code",
   "execution_count": null,
   "metadata": {
    "collapsed": false
   },
   "outputs": [],
   "source": [
    "help(nx)"
   ]
  }
 ],
 "metadata": {
  "anaconda-cloud": {},
  "kernelspec": {
   "display_name": "Python [Root]",
   "language": "python",
   "name": "Python [Root]"
  },
  "language_info": {
   "codemirror_mode": {
    "name": "ipython",
    "version": 3
   },
   "file_extension": ".py",
   "mimetype": "text/x-python",
   "name": "python",
   "nbconvert_exporter": "python",
   "pygments_lexer": "ipython3",
   "version": "3.5.2"
  }
 },
 "nbformat": 4,
 "nbformat_minor": 0
}
