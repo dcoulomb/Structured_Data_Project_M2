{
 "cells": [
  {
   "cell_type": "markdown",
   "metadata": {},
   "source": [
    "# Structured Output Prediction of Anti-Cancer Drug Activity [1/2]\n",
    "\n",
    "Anas Atmani, Benoît Choffin, Domitille Coulomb, Paul Roujansky"
   ]
  },
  {
   "cell_type": "markdown",
   "metadata": {},
   "source": [
    "### Data\n",
    "\n",
    "**Input:**\n",
    "\n",
    "- We consider 2305 distinct molecules. Each of them has several physico-chemical and geometric properties that enables to build similarities between all molecules through a kernel. We end up with the [2305 x 2305] Gram matrix of the Tanimoto kernel.\n",
    "\n",
    "**Ouput:**\n",
    "\n",
    "- We have a total of 59 cancer cell lines for which we would like to predict the effect of each molecule (active/inactive). This last information is provided in a [2305 x 59] \"target\" matrix.\n",
    "\n",
    "- We also have external RNA-based data for each cancer cell line. By computing the [59 x 59] correlation matrix based on these features, we build a similarity graph between all cancer cell lines through a *maximum weight spanning tree* (MWST). As a quick note, the graph should not necesarrily be fully-connected, which should considerably reduce computation time. We also compare the maximum weight spanning tree with the \"correlation threshold method\" for which the graph is built by assuming a relationship between two cancers if the composite correlation between them is above a certain threshold.\n",
    "\n",
    "### Modelling\n",
    "\n",
    "Two approaches:\n",
    "\n",
    "- perform prediction independently for each cancer cell line, through a standard classification algorithm such as SVM;\n",
    "- take into account the similarities between the cancer cell lines and make use of this \"structure\" (goal of the article) through a MMCRF algorithm."
   ]
  },
  {
   "cell_type": "code",
   "execution_count": 1,
   "metadata": {
    "collapsed": false
   },
   "outputs": [
    {
     "name": "stdout",
     "output_type": "stream",
     "text": [
      "Once deleted, variables cannot be recovered. Proceed (y/[n])? y\n"
     ]
    }
   ],
   "source": [
    "%reset"
   ]
  },
  {
   "cell_type": "code",
   "execution_count": 2,
   "metadata": {
    "collapsed": true
   },
   "outputs": [],
   "source": [
    "import numpy as np\n",
    "import matplotlib.pyplot as plt\n",
    "%matplotlib inline\n",
    "import seaborn as sns\n",
    "from scipy.sparse.csgraph import minimum_spanning_tree\n",
    "import time\n",
    "import seaborn as sns\n",
    "from sklearn.metrics import f1_score"
   ]
  },
  {
   "cell_type": "markdown",
   "metadata": {},
   "source": [
    "## Data import"
   ]
  },
  {
   "cell_type": "code",
   "execution_count": 3,
   "metadata": {
    "collapsed": false
   },
   "outputs": [
    {
     "name": "stdout",
     "output_type": "stream",
     "text": [
      "ncicancer_input_kernel.txt loaded.\n",
      "ncicancer_bin_targets.txt loaded.\n",
      "ncicancer_targets.txt loaded.\n",
      "ncicancer_cancerCL_corr.txt loaded.\n"
     ]
    }
   ],
   "source": [
    "file_names = ['ncicancer_input_kernel.txt',\n",
    "            'ncicancer_bin_targets.txt',\n",
    "            'ncicancer_targets.txt',\n",
    "            'ncicancer_cancerCL_corr.txt']\n",
    "\n",
    "data = []\n",
    "\n",
    "' We import each dataset and append it to the list \"data\" '\n",
    "for file in file_names:\n",
    "    try:\n",
    "        data.append(np.loadtxt('data/data_clean/'+file))\n",
    "        print('%s loaded.' %file)\n",
    "    except:\n",
    "        print('Error: %s not loaded.' %file)"
   ]
  },
  {
   "cell_type": "code",
   "execution_count": 4,
   "metadata": {
    "collapsed": false
   },
   "outputs": [],
   "source": [
    "' We define the variables '\n",
    "X_gram = data[0]\n",
    "Y_class = data[1]\n",
    "Y_reg = data[2]\n",
    "cancer_correls = data[3]"
   ]
  },
  {
   "cell_type": "code",
   "execution_count": 5,
   "metadata": {
    "collapsed": false
   },
   "outputs": [
    {
     "data": {
      "text/plain": [
       "((2305, 2305), (2305, 59), (2305, 59), (59, 59))"
      ]
     },
     "execution_count": 5,
     "metadata": {},
     "output_type": "execute_result"
    }
   ],
   "source": [
    "' We check the shape of each variable '\n",
    "X_gram.shape, Y_class.shape, Y_reg.shape, cancer_correls.shape"
   ]
  },
  {
   "cell_type": "markdown",
   "metadata": {},
   "source": [
    "## A - Method 1 : SVM"
   ]
  },
  {
   "cell_type": "code",
   "execution_count": 6,
   "metadata": {
    "collapsed": true
   },
   "outputs": [],
   "source": [
    "from sklearn.svm import SVC\n",
    "from sklearn.metrics import accuracy_score\n",
    "from sklearn.model_selection import StratifiedKFold"
   ]
  },
  {
   "cell_type": "code",
   "execution_count": 7,
   "metadata": {
    "collapsed": false
   },
   "outputs": [],
   "source": [
    "class k_fold_CV():\n",
    "    \n",
    "    \"\"\"\n",
    "    Class for SVM algorithm which makes it easy to compute k-fold cross-validation on it.\n",
    "    \"\"\"\n",
    "    \n",
    "    def __init__(self, C, n_splits, n_strats = 10):\n",
    "        '''\n",
    "        - \"C\"         SVM hyperparameter\n",
    "        - \"n_splits\"  number of folds of the k-fold cross validation (at least 2)\n",
    "        - \"n_strats\"  depth of the stratification considered for the stratified k-fold. The variable is the number of\n",
    "                      cell lines against which the molecule is active.\n",
    "        '''\n",
    "        self.C = C\n",
    "        self.n_splits = n_splits\n",
    "        self.n_strats = n_strats\n",
    "        self.trained = False\n",
    "        \n",
    "    def fit_predict(self, X, y, verbose=True):\n",
    "        \n",
    "        self.n, self.m = y.shape\n",
    "        ' we build \"n_splits\" folds '\n",
    "        skf = StratifiedKFold(n_splits=self.n_splits)\n",
    "        \n",
    "        ' create temporary variable for the stratification purpose '\n",
    "        listOfPercent = np.percentile(np.sum(y, axis = 1),list((np.arange(self.n_strats))*10))\n",
    "        bins = np.digitize(np.sum(y, axis = 1), listOfPercent)\n",
    "        \n",
    "        model = SVC(C=self.C, kernel='precomputed')\n",
    "        \n",
    "        if verbose:\n",
    "            print(\"Fold \\t Computation time\")\n",
    "        \n",
    "        k = 0\n",
    "        for train, test in skf.split(X, bins):\n",
    "            ' we perform k-fold cross validation '\n",
    "            startTime = time.time()\n",
    "            \n",
    "            X_train, y_train = X[train[:, None],train], y[train]\n",
    "            X_test, y_test = X[test[:, None], train], y[test]\n",
    "            \n",
    "            Y_preds_j = []\n",
    "            \n",
    "            for j in range(y.shape[1]):\n",
    "                ' we train j distinct models for each cancer cell line '\n",
    "                model.fit(X_train, y_train[:,j])\n",
    "                ' we stack the results iteratively '\n",
    "                Y_preds_j.append(model.predict(X_test))\n",
    "            \n",
    "            ' We stack the results obtained for each fold '\n",
    "            if k==0:\n",
    "                self.Y_preds = np.array(Y_preds_j).T\n",
    "            else:\n",
    "                self.Y_preds = np.concatenate((self.Y_preds, np.array(Y_preds_j).T))\n",
    "        \n",
    "            runTime = time.time() - startTime\n",
    "            if verbose:\n",
    "                print(\"%d/%d \\t %d\" %(k+1, self.n_splits, runTime))\n",
    "            k += 1\n",
    "        \n",
    "        ' we calculate the classification error '\n",
    "        self.accuracies = np.array([accuracy_score(self.Y_preds[:,i], y[:,i]) for i in range(self.Y_preds.shape[1])])\n",
    "        self.f1_scores = np.array([f1_score(y[:,i], self.Y_preds[:,i]) for i in range(self.Y_preds.shape[1])])\n",
    "        self.trained = True\n",
    "        \n",
    "    def results(self):\n",
    "        \n",
    "        if self.trained:\n",
    "            print(\"Results for %d folds on the full dataset:\" %self.n_splits)\n",
    "            print(\"Average accuracy = %.2f%%\" %(np.mean(self.accuracies)*100))\n",
    "            print(\"Standard deviation (accuracy) = %.2f%%\" %(np.std(self.accuracies)*100))\n",
    "            print(\"-----------------------------------------------------------\")\n",
    "            print(\"Average F1 score = %.2f%%\" % (np.mean(self.f1_scores)*100))\n",
    "            print(\"Standard deviation (F1 score) = %.2f%%\" %(np.std(self.f1_scores)*100))\n",
    "            \n",
    "        else:\n",
    "            print(\"Not trained yet.\")\n",
    "                    "
   ]
  },
  {
   "cell_type": "markdown",
   "metadata": {},
   "source": [
    "We test the SVM algorithm on the full dataset (aka No-Zero-Active) with 5-fold cross-validation:"
   ]
  },
  {
   "cell_type": "code",
   "execution_count": 8,
   "metadata": {
    "collapsed": false
   },
   "outputs": [
    {
     "name": "stdout",
     "output_type": "stream",
     "text": [
      "Fold \t Computation time\n",
      "1/5 \t 5\n",
      "2/5 \t 6\n",
      "3/5 \t 7\n",
      "4/5 \t 6\n",
      "5/5 \t 5\n",
      "Results for 5 folds on the full dataset:\n",
      "Average accuracy = 60.76%\n",
      "Standard deviation (accuracy) = 4.07%\n",
      "-----------------------------------------------------------\n",
      "Average F1 score = 43.84%\n",
      "Standard deviation (F1 score) = 6.52%\n"
     ]
    }
   ],
   "source": [
    "model = k_fold_CV(C=100, n_splits=5)\n",
    "model.fit_predict(X_gram, Y_class)\n",
    "model.results()"
   ]
  },
  {
   "cell_type": "markdown",
   "metadata": {},
   "source": [
    "Test on the reduced version of the dataset (aka Middle Active):"
   ]
  },
  {
   "cell_type": "code",
   "execution_count": 9,
   "metadata": {
    "collapsed": true
   },
   "outputs": [],
   "source": [
    "' Create the reduced dataset Middle Active '\n",
    "y_bis = Y_class.copy()\n",
    "y_bis[y_bis < 0] = 0.\n",
    "\n",
    "idxMiddleActive = ((np.sum(y_bis, axis = 1) > 10) & (np.sum(y_bis, axis = 1) < 49))"
   ]
  },
  {
   "cell_type": "code",
   "execution_count": 10,
   "metadata": {
    "collapsed": false
   },
   "outputs": [
    {
     "name": "stdout",
     "output_type": "stream",
     "text": [
      "Fold \t Computation time\n",
      "1/5 \t 0\n",
      "2/5 \t 0\n",
      "3/5 \t 0\n",
      "4/5 \t 0\n",
      "5/5 \t 0\n",
      "Results for 5 folds on the full dataset:\n",
      "Average accuracy = 58.30%\n",
      "Standard deviation (accuracy) = 7.97%\n",
      "-----------------------------------------------------------\n",
      "Average F1 score = 46.03%\n",
      "Standard deviation (F1 score) = 19.48%\n"
     ]
    }
   ],
   "source": [
    "model = k_fold_CV(C=100, n_splits=5)\n",
    "model.fit_predict(X_gram[np.ix_(idxMiddleActive,idxMiddleActive)], Y_class[idxMiddleActive])\n",
    "model.results()"
   ]
  },
  {
   "cell_type": "markdown",
   "metadata": {},
   "source": [
    "#### Please see MMCRF notebook for the other model."
   ]
  }
 ],
 "metadata": {
  "anaconda-cloud": {},
  "kernelspec": {
   "display_name": "Python 3",
   "language": "python",
   "name": "python3"
  },
  "language_info": {
   "codemirror_mode": {
    "name": "ipython",
    "version": 3
   },
   "file_extension": ".py",
   "mimetype": "text/x-python",
   "name": "python",
   "nbconvert_exporter": "python",
   "pygments_lexer": "ipython3",
   "version": "3.5.2"
  }
 },
 "nbformat": 4,
 "nbformat_minor": 0
}
