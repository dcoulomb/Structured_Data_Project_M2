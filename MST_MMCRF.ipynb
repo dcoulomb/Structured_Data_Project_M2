{
 "cells": [
  {
   "cell_type": "code",
   "execution_count": 1,
   "metadata": {
    "collapsed": false
   },
   "outputs": [],
   "source": [
    "import numpy as np\n",
    "import matplotlib.pyplot as plt\n",
    "%matplotlib inline"
   ]
  },
  {
   "cell_type": "code",
   "execution_count": 2,
   "metadata": {
    "collapsed": false
   },
   "outputs": [
    {
     "data": {
      "text/plain": [
       "(2305, 59)"
      ]
     },
     "execution_count": 2,
     "metadata": {},
     "output_type": "execute_result"
    }
   ],
   "source": [
    "target = np.loadtxt('/Users/domitillecoulomb/Documents/DATA_SCIENCE/Semester2/Str_Data/Project/Project_Data/ncicancer_targets_ex0.txt')\n",
    "target.shape"
   ]
  },
  {
   "cell_type": "code",
   "execution_count": 3,
   "metadata": {
    "collapsed": true
   },
   "outputs": [],
   "source": [
    "hf = np.loadtxt('/Users/domitillecoulomb/Documents/DATA_SCIENCE/Semester2/Str_Data/Project/Project_Data/ncicancer_kernel_hf_ex0.txt')"
   ]
  },
  {
   "cell_type": "markdown",
   "metadata": {},
   "source": [
    "# 1. Preprocessing et Formattage des données de sortie"
   ]
  },
  {
   "cell_type": "markdown",
   "metadata": {},
   "source": [
    "> On the github page of the project, it is written: \"We notice that the activity score is computed according -10*log(GI50). We still need binary value as the activity outcome for classification task. According to NCBI, a molecule is 'active' if the activity score is over(**=) 60 and 'inactive' otherwise.\"\n"
   ]
  },
  {
   "cell_type": "code",
   "execution_count": 4,
   "metadata": {
    "collapsed": false
   },
   "outputs": [],
   "source": [
    "y_label = target.copy()\n",
    "y_label[y_label < 60] = -1\n",
    "y_label[y_label >= 60] = 1"
   ]
  },
  {
   "cell_type": "code",
   "execution_count": 5,
   "metadata": {
    "collapsed": false
   },
   "outputs": [],
   "source": [
    "Kx = hf"
   ]
  },
  {
   "cell_type": "markdown",
   "metadata": {},
   "source": [
    "** Visulisation des données: Repartition de la bioactivité moléculaire **"
   ]
  },
  {
   "cell_type": "code",
   "execution_count": 55,
   "metadata": {
    "collapsed": false,
    "scrolled": true
   },
   "outputs": [
    {
     "data": {
      "text/plain": [
       "[<matplotlib.lines.Line2D at 0x114f8c6d8>]"
      ]
     },
     "execution_count": 55,
     "metadata": {},
     "output_type": "execute_result"
    },
    {
     "data": {
      "image/png": "[encoded data removed]",
      "text/plain": [
       "<matplotlib.figure.Figure at 0x114f405c0>"
      ]
     },
     "metadata": {},
     "output_type": "display_data"
    }
   ],
   "source": [
    "y_=np.empty(1)\n",
    "for i in np.unique(target):\n",
    "    y_ = np.append(y_,len(target[target == float(i)]))\n",
    "y_= y_[1:]\n",
    "plt.plot(np.unique(target), y_)"
   ]
  },
  {
   "cell_type": "markdown",
   "metadata": {},
   "source": [
    "> On observe 3 pics de bioactivité modélculaire: 40, 60, 80. On en fait l'interprétation suivante (en accord avec les analyses de l'article):\n",
    "\n",
    "> le pic à 40 peut être vu comme la mesure représentant une inactivité\n",
    "\n",
    "> le pic à 80 peut être vu comme la mesure représentant une activité\n",
    "\n",
    "> il y a des variations autour de ces données, avec une limite à 60. Cette limite est discutable. C'est celle utilisé dans l'article, mais on pourrait imaginer tester une autre limite d'activité."
   ]
  },
  {
   "cell_type": "markdown",
   "metadata": {},
   "source": [
    "** Justification de la limite à 60: Limite maximum pour que chaque molécule soit active sur un type de cellules, au moins**"
   ]
  },
  {
   "cell_type": "code",
   "execution_count": 54,
   "metadata": {
    "collapsed": false,
    "scrolled": true
   },
   "outputs": [
    {
     "data": {
      "text/plain": [
       "60.0"
      ]
     },
     "execution_count": 54,
     "metadata": {},
     "output_type": "execute_result"
    }
   ],
   "source": [
    "np.min(np.max(target, axis=1))"
   ]
  },
  {
   "cell_type": "markdown",
   "metadata": {},
   "source": [
    "# 2. Markov Network"
   ]
  },
  {
   "cell_type": "markdown",
   "metadata": {},
   "source": [
    "The first step is to construct from the target data (cell-lines bioactivity) a correlation matrix between the pairs of cell lines. Then, we can extract the Markov network from the matrix by favoring high-valued pairs (two methods will be explained afterwards)"
   ]
  },
  {
   "cell_type": "code",
   "execution_count": 6,
   "metadata": {
    "collapsed": false
   },
   "outputs": [],
   "source": [
    "cov = np.cov(np.transpose(target)) # covariance matrix\n",
    "pres = np.linalg.inv(cov) # precision matrix"
   ]
  },
  {
   "cell_type": "markdown",
   "metadata": {},
   "source": [
    "### 2.1. Maximum weight spanning tree"
   ]
  },
  {
   "cell_type": "markdown",
   "metadata": {},
   "source": [
    "In the paper, the maximum spanning tree is computed from additional data. Since we don't directly have access to this data, we tried first to build this tree by using the covariance matrix only (advise from Florence D'Alché Buc).\n",
    "\n",
    "Using more additional data could be a way of improvement"
   ]
  },
  {
   "cell_type": "code",
   "execution_count": 8,
   "metadata": {
    "collapsed": false,
    "scrolled": false
   },
   "outputs": [
    {
     "name": "stderr",
     "output_type": "stream",
     "text": [
      "/Users/domitillecoulomb/anaconda3/lib/python3.5/site-packages/networkx/drawing/nx_pylab.py:126: MatplotlibDeprecationWarning: pyplot.hold is deprecated.\n",
      "    Future behavior will be consistent with the long-time default:\n",
      "    plot commands add elements without first clearing the\n",
      "    Axes and/or Figure.\n",
      "  b = plt.ishold()\n",
      "/Users/domitillecoulomb/anaconda3/lib/python3.5/site-packages/networkx/drawing/nx_pylab.py:138: MatplotlibDeprecationWarning: pyplot.hold is deprecated.\n",
      "    Future behavior will be consistent with the long-time default:\n",
      "    plot commands add elements without first clearing the\n",
      "    Axes and/or Figure.\n",
      "  plt.hold(b)\n",
      "/Users/domitillecoulomb/anaconda3/lib/python3.5/site-packages/matplotlib/__init__.py:917: UserWarning: axes.hold is deprecated. Please remove it from your matplotlibrc and/or style files.\n",
      "  warnings.warn(self.msg_depr_set % key)\n",
      "/Users/domitillecoulomb/anaconda3/lib/python3.5/site-packages/matplotlib/rcsetup.py:152: UserWarning: axes.hold is deprecated, will be removed in 3.0\n",
      "  warnings.warn(\"axes.hold is deprecated, will be removed in 3.0\")\n"
     ]
    },
    {
     "data": {
      "image/png": "[encoded data removed]",
      "text/plain": [
       "<matplotlib.figure.Figure at 0x10c669f98>"
      ]
     },
     "metadata": {},
     "output_type": "display_data"
    }
   ],
   "source": [
    "import networkx as nx\n",
    "from spanning_tree import maximum_spanning_tree\n",
    "A = cov.copy()\n",
    "G = nx.from_numpy_matrix(A) # total graph\n",
    "G = maximum_spanning_tree(G) # graph mst (minimum spanning tree)\n",
    "nx.draw(G, node_size=5)"
   ]
  },
  {
   "cell_type": "markdown",
   "metadata": {},
   "source": [
    "**Computing the tree on the normalized coviarance: **\n",
    "This method doesn't give the same results. Indeed, since the delta between all the data are very small, changing the path doesn't change the total weight sum a lot. That is why we end up with a very different graph. We will keep the first one (without normalization)."
   ]
  },
  {
   "cell_type": "markdown",
   "metadata": {},
   "source": [
    "**Understanding the Graph**"
   ]
  },
  {
   "cell_type": "code",
   "execution_count": 11,
   "metadata": {
    "collapsed": false
   },
   "outputs": [
    {
     "name": "stdout",
     "output_type": "stream",
     "text": [
      "59\n",
      "59\n",
      "[ 0  3 24  7  4 30 20 15 18 19 45 56 31 22 12  9 32 55 25 21 10 17  2 41  1\n",
      " 40 42 28 33  6 34 26 50 23 53 52 49 54 11 13 29 47 46 14 44 38  5 39 27 16\n",
      " 35 48 51 58  8 37 43 36 57]\n",
      "True\n",
      "[(0, 3), (1, 24), (2, 24), (3, 32), (3, 4), (3, 7), (3, 12), (3, 47), (3, 24), (3, 18), (3, 20), (3, 56), (3, 52), (3, 29), (5, 24), (6, 31), (8, 25), (9, 30), (10, 31), (11, 31), (13, 15), (14, 33), (15, 20), (16, 31), (17, 24), (17, 34), (17, 38), (18, 35), (19, 24), (21, 24), (22, 24), (23, 24), (24, 54), (24, 41), (24, 42), (24, 44), (24, 45), (24, 43), (24, 55), (24, 28), (24, 30), (25, 57), (25, 26), (25, 30), (27, 31), (30, 31), (31, 49), (31, 50), (31, 46), (31, 40), (31, 51), (32, 36), (33, 34), (33, 39), (37, 45), (48, 50), (53, 56), (56, 58)]\n"
     ]
    }
   ],
   "source": [
    "print(G.number_of_nodes())\n",
    "print(G.order())\n",
    "print(np.argsort(cov[0])[::-1])\n",
    "test = np.argsort(cov[0])[::-1] [1]\n",
    "print(G.has_edge(0,test))\n",
    "print(G.edges()) #** Get edges for further analysis and use (mmCRF) **"
   ]
  },
  {
   "cell_type": "markdown",
   "metadata": {},
   "source": [
    "### 2.2. Correlation thresholding"
   ]
  },
  {
   "cell_type": "markdown",
   "metadata": {},
   "source": [
    "Take all edges that exceed fixed threshold. This approach typically generates a general non-tree graph"
   ]
  },
  {
   "cell_type": "code",
   "execution_count": 25,
   "metadata": {
    "collapsed": false
   },
   "outputs": [],
   "source": [
    "threshold = 135\n",
    "A_thresh = cov.copy()\n",
    "A_thresh[cov < threshold] = 0"
   ]
  },
  {
   "cell_type": "code",
   "execution_count": 26,
   "metadata": {
    "collapsed": false,
    "scrolled": false
   },
   "outputs": [
    {
     "name": "stderr",
     "output_type": "stream",
     "text": [
      "/Users/domitillecoulomb/anaconda3/lib/python3.5/site-packages/networkx/drawing/nx_pylab.py:126: MatplotlibDeprecationWarning: pyplot.hold is deprecated.\n",
      "    Future behavior will be consistent with the long-time default:\n",
      "    plot commands add elements without first clearing the\n",
      "    Axes and/or Figure.\n",
      "  b = plt.ishold()\n",
      "/Users/domitillecoulomb/anaconda3/lib/python3.5/site-packages/networkx/drawing/nx_pylab.py:138: MatplotlibDeprecationWarning: pyplot.hold is deprecated.\n",
      "    Future behavior will be consistent with the long-time default:\n",
      "    plot commands add elements without first clearing the\n",
      "    Axes and/or Figure.\n",
      "  plt.hold(b)\n",
      "/Users/domitillecoulomb/anaconda3/lib/python3.5/site-packages/matplotlib/__init__.py:917: UserWarning: axes.hold is deprecated. Please remove it from your matplotlibrc and/or style files.\n",
      "  warnings.warn(self.msg_depr_set % key)\n",
      "/Users/domitillecoulomb/anaconda3/lib/python3.5/site-packages/matplotlib/rcsetup.py:152: UserWarning: axes.hold is deprecated, will be removed in 3.0\n",
      "  warnings.warn(\"axes.hold is deprecated, will be removed in 3.0\")\n"
     ]
    },
    {
     "data": {
      "image/png": "[encoded data removed]",
      "text/plain": [
       "<matplotlib.figure.Figure at 0x10f64d320>"
      ]
     },
     "metadata": {},
     "output_type": "display_data"
    }
   ],
   "source": [
    "import networkx as nx\n",
    "fig = plt.figure(figsize=(5,5))\n",
    "G_thresh = nx.from_numpy_matrix(A_thresh)\n",
    "rows, cols = np.where(A_thresh != 0)\n",
    "edges = zip(rows.tolist(), cols.tolist())\n",
    "G_thresh.add_edges_from(edges) \n",
    "nx.draw(G_thresh, node_size=5)"
   ]
  },
  {
   "cell_type": "markdown",
   "metadata": {},
   "source": [
    "**Normalizing: ** Here, normalizing has a sense. Edges are determined by the thresholding, but when it is done we can normalize the weights. It will be the exact same edges, but normlized, which it better for vizualisation (see above). It makes sense to keep this method (with normalization)."
   ]
  },
  {
   "cell_type": "code",
   "execution_count": 27,
   "metadata": {
    "collapsed": false
   },
   "outputs": [
    {
     "name": "stderr",
     "output_type": "stream",
     "text": [
      "/Users/domitillecoulomb/anaconda3/lib/python3.5/site-packages/networkx/drawing/nx_pylab.py:126: MatplotlibDeprecationWarning: pyplot.hold is deprecated.\n",
      "    Future behavior will be consistent with the long-time default:\n",
      "    plot commands add elements without first clearing the\n",
      "    Axes and/or Figure.\n",
      "  b = plt.ishold()\n",
      "/Users/domitillecoulomb/anaconda3/lib/python3.5/site-packages/networkx/drawing/nx_pylab.py:138: MatplotlibDeprecationWarning: pyplot.hold is deprecated.\n",
      "    Future behavior will be consistent with the long-time default:\n",
      "    plot commands add elements without first clearing the\n",
      "    Axes and/or Figure.\n",
      "  plt.hold(b)\n",
      "/Users/domitillecoulomb/anaconda3/lib/python3.5/site-packages/matplotlib/__init__.py:917: UserWarning: axes.hold is deprecated. Please remove it from your matplotlibrc and/or style files.\n",
      "  warnings.warn(self.msg_depr_set % key)\n",
      "/Users/domitillecoulomb/anaconda3/lib/python3.5/site-packages/matplotlib/rcsetup.py:152: UserWarning: axes.hold is deprecated, will be removed in 3.0\n",
      "  warnings.warn(\"axes.hold is deprecated, will be removed in 3.0\")\n"
     ]
    },
    {
     "data": {
      "image/png": "[encoded data removed]",
      "text/plain": [
       "<matplotlib.figure.Figure at 0x114f7b048>"
      ]
     },
     "metadata": {},
     "output_type": "display_data"
    }
   ],
   "source": [
    "from sklearn import preprocessing\n",
    "A_thresh = preprocessing.normalize(A_thresh)\n",
    "\n",
    "G_thresh = nx.from_numpy_matrix(A_thresh)\n",
    "rows, cols = np.where(A_thresh != 0)\n",
    "edges = zip(rows.tolist(), cols.tolist())\n",
    "G_thresh.add_edges_from(edges) \n",
    "nx.draw(G_thresh, node_size=5)"
   ]
  },
  {
   "cell_type": "markdown",
   "metadata": {},
   "source": [
    "# 3. MMCRF"
   ]
  },
  {
   "cell_type": "markdown",
   "metadata": {},
   "source": [
    "## 3.1 Theoritical problem"
   ]
  },
  {
   "cell_type": "markdown",
   "metadata": {},
   "source": [
    "See paper **Efficient Algorithms for Max-Margin Structured Classification, Juho Rousu et al.**\n",
    "\n",
    "Explains very well the optimization problem to be resolved in section 1.2.6 **Marginal dual problem**:\n",
    "\n",
    "$$ \\max_{\\mu}\\mu^{T} l_{H} − \\frac{1}{2}\\mu^{T}K_{H}\\mu $$\n",
    "\n",
    "Then the gradient becomes: \n",
    "\n",
    "$$ g = l_{H} − K_{H}\\mu $$\n",
    "\n",
    "Furthermore, the objective can be written as :  \n",
    "$$obj = \\mu^{T} l_{H} − \\frac{1}{2}\\mu^{T}K_{H}\\mu$$\n",
    "$$obj = \\sum_{i=1}^{m}\\sum_{e\\in E}\\sum_{u\\in Y_{E}} \\mu(e,u) l_{H}(i,u) − \\frac{1}{2}\\sum_{e\\in E}\\sum_{i,i^{'}}\\sum_{u,u^{'}} \\mu_{e}(i,u)K_{e}(i,u;i^{'},u^{'})\\mu_{e}(i^{'},u^{'})$$\n",
    "\n",
    "That's why we need to construct the full loss vector (for each of the 4 possible labels), and K_mu_X and K_mu for the gradient descent\n"
   ]
  },
  {
   "cell_type": "code",
   "execution_count": null,
   "metadata": {
    "collapsed": true
   },
   "outputs": [],
   "source": []
  },
  {
   "cell_type": "markdown",
   "metadata": {},
   "source": [
    "## 3.2 Conditional Gradient Algorithm"
   ]
  },
  {
   "cell_type": "markdown",
   "metadata": {},
   "source": [
    "### 3.2.1. Functions for the algorithm"
   ]
  },
  {
   "cell_type": "markdown",
   "metadata": {},
   "source": [
    "**Loss Vector**"
   ]
  },
  {
   "cell_type": "code",
   "execution_count": null,
   "metadata": {
    "collapsed": true
   },
   "outputs": [],
   "source": []
  },
  {
   "cell_type": "code",
   "execution_count": 15,
   "metadata": {
    "collapsed": false
   },
   "outputs": [
    {
     "name": "stdout",
     "output_type": "stream",
     "text": [
      "Computing loss vector...\n"
     ]
    }
   ],
   "source": [
    "#Y_tr = y_label, G=G\n",
    "def compute_loss_vector(G, Y_tr):\n",
    "    \n",
    "    print('Computing loss vector...')\n",
    "    \n",
    "    labels = [-1,1]\n",
    "    m = Y_tr.shape[0]\n",
    "    E = G.edges()\n",
    "    e = len(E)\n",
    "    \n",
    "    \"\"\"Initialize loss of size (4, M*E):\n",
    "        M: nb of melecules\n",
    "        E: nb of edges to be predicted for each molecule\n",
    "        4: nb of losses to be computed (for each of the four possible labeling we compute a different loss)\"\"\"\n",
    "    loss = np.ones((4,m*e))\n",
    "    \n",
    "    E_tail = [elt[0] for elt in E]\n",
    "    E_head = [elt[1] for elt in E]\n",
    "    Te1 = Y_tr[:,E_tail] # the label of edge tail\n",
    "    Te2 = Y_tr[:,E_head] # the label of edge head\n",
    "    \n",
    "    \"\"\"Scaling the loss : rescale to microlabels by dividing node loss among the adjacent edges\"\"\"\n",
    "    NodeDegree = np.array(list(G.degree().values()))\n",
    "    NodeDegree = np.repeat(np.expand_dims(NodeDegree, axis = 0), m, axis=0)\n",
    "    \n",
    "    u = 0\n",
    "    for u_1 in labels:\n",
    "        for u_2 in labels:\n",
    "            loss[u,:] = np.concatenate(np.divide((Te1 != u_1), NodeDegree[:, E_head]) + np.divide((Te2 != u_2), NodeDegree[:, E_tail]))\n",
    "            u += 1\n",
    "    loss = np.resize(loss, (4*e,m)) # try transpose\n",
    "    \n",
    "    return loss\n",
    "\n",
    "loss = compute_loss_vector(G, y_label)           \n",
    "            \n",
    "    "
   ]
  },
  {
   "cell_type": "markdown",
   "metadata": {},
   "source": [
    "**Gradient Computation**"
   ]
  },
  {
   "cell_type": "markdown",
   "metadata": {},
   "source": [
    "**K_mu_x**"
   ]
  },
  {
   "cell_type": "code",
   "execution_count": 93,
   "metadata": {
    "collapsed": true
   },
   "outputs": [],
   "source": [
    "#mu_x = mu[:,x]\n",
    "\n",
    "def compute_Kmu_x(x,Kx,E, Smu, Rmu, mu_x):\n",
    "    m = Kx.shape[0]\n",
    "    e = len(E)\n",
    "    \"\"\"\n",
    "    For speeding up gradient computations:\n",
    "    Smu : store sums of marginal dual variables, distributed by the true edge values\n",
    "    Rmu : store marginal dual variables, distributed by the pseudo edge values\n",
    "    \"\"\"\n",
    "\n",
    "    \n",
    "    mu_x = np.resize(mu_x,(4,e));\n",
    "\n",
    "    for u in [0,1,2,3]:\n",
    "        Smu[u][:,x] = np.sum(mu_x, axis=0) # sum margin variables over the 4 labeling losses\n",
    "        Rmu[u][:,x] = mu_x[u,:] # take only the loss associated to the specific label tested\n",
    "    \n",
    "    term12 = np.zeros((len(E), Kx.shape[1]))\n",
    "    term34 = np.zeros((4,len(E), Kx.shape[1]))\n",
    "    \n",
    "    for u in [0,1,2,3]:\n",
    "        Ind_te_u = IndEdgeVal[u][:,x] # loss of edges for this label, associated to the moledule x (boolean)\n",
    "        H_u = Smu[u].dot(Kx)-Rmu[u].dot(Kx)\n",
    "    \n",
    "        term12[Ind_te_u][:] = H_u[Ind_te_u]\n",
    "        term34[u][:] = - H_u\n",
    "    \n",
    "    term12 = np.repeat(np.expand_dims(term12,axis=0), 4, axis=0)\n",
    "    \n",
    "    \n",
    "    Kmu_x = np.resize(term12 + term34, (4*len(E),1))\n",
    "    return Kmu_x\n",
    "\n"
   ]
  },
  {
   "cell_type": "markdown",
   "metadata": {},
   "source": [
    "**K_mu**"
   ]
  },
  {
   "cell_type": "code",
   "execution_count": null,
   "metadata": {
    "collapsed": true
   },
   "outputs": [],
   "source": [
    "#TO DO using K_mu_x (function above)"
   ]
  },
  {
   "cell_type": "markdown",
   "metadata": {},
   "source": [
    "### 3.2.2. Global variables and algorithm"
   ]
  },
  {
   "cell_type": "code",
   "execution_count": 16,
   "metadata": {
    "collapsed": false
   },
   "outputs": [
    {
     "name": "stdout",
     "output_type": "stream",
     "text": [
      "Computing loss vector...\n"
     ]
    }
   ],
   "source": [
    "E = G.edges()\n",
    "l = y_label.shape[1]\n",
    "m = Kx.shape[0]\n",
    "mu = np.zeros((4*len(E),m))"
   ]
  },
  {
   "cell_type": "code",
   "execution_count": 85,
   "metadata": {
    "collapsed": false
   },
   "outputs": [],
   "source": [
    "\"\"\"For speeding up gradient computations: j'ai pas trop réussi bein à comprendre le rôle de ces variables...\"\"\"\n",
    "Smu = {}\n",
    "Rmu = {}\n",
    "for u in [0,1,2,3]:\n",
    "    Smu[u] = np.zeros((len(E),m))\n",
    "    Rmu[u] = np.zeros((len(E),m))\n"
   ]
  },
  {
   "cell_type": "code",
   "execution_count": null,
   "metadata": {
    "collapsed": true
   },
   "outputs": [],
   "source": [
    "\"\"\"Using above functions\"\"\"\n",
    "loss = compute_loss_vector(G, y_label)\n",
    "compute_Kmu_x(0,Kx,E, Smu, Rmu, mu[:,0])"
   ]
  },
  {
   "cell_type": "code",
   "execution_count": 17,
   "metadata": {
    "collapsed": false
   },
   "outputs": [],
   "source": [
    "\"\"\"Get edges labeling (among 4 possible values) as boolean\"\"\"\n",
    "\"\"\"Ye: Denotes the edge-labelings 0 <-- [-1,-1], 1 <-- [-1,+1], 2 <-- [+1,-1], 3 <-- [+1,+1]\"\"\"\n",
    "\n",
    "Ye = np.resize(loss == 0,(4,len(E)*m))\n",
    "\n",
    "IndEdgeVal = {}\n",
    "for u in [0,1,2,3]:\n",
    "    IndEdgeVal[u] = np.resize(Ye[u,:]!=0,(len(E),m));\n",
    "\n",
    "Ye = np.resize(Ye,(4*len(E),m))"
   ]
  },
  {
   "cell_type": "code",
   "execution_count": 95,
   "metadata": {
    "collapsed": true
   },
   "outputs": [],
   "source": [
    "# TO BE CONTINUED..."
   ]
  },
  {
   "cell_type": "code",
   "execution_count": null,
   "metadata": {
    "collapsed": true
   },
   "outputs": [],
   "source": []
  },
  {
   "cell_type": "code",
   "execution_count": null,
   "metadata": {
    "collapsed": true
   },
   "outputs": [],
   "source": []
  },
  {
   "cell_type": "code",
   "execution_count": null,
   "metadata": {
    "collapsed": true
   },
   "outputs": [],
   "source": []
  },
  {
   "cell_type": "code",
   "execution_count": null,
   "metadata": {
    "collapsed": true
   },
   "outputs": [],
   "source": [
    "\n",
    "\n",
    "\n"
   ]
  },
  {
   "cell_type": "code",
   "execution_count": null,
   "metadata": {
    "collapsed": true
   },
   "outputs": [],
   "source": []
  },
  {
   "cell_type": "code",
   "execution_count": null,
   "metadata": {
    "collapsed": true
   },
   "outputs": [],
   "source": []
  }
 ],
 "metadata": {
  "anaconda-cloud": {},
  "kernelspec": {
   "display_name": "Python [conda root]",
   "language": "python",
   "name": "conda-root-py"
  },
  "language_info": {
   "codemirror_mode": {
    "name": "ipython",
    "version": 3
   },
   "file_extension": ".py",
   "mimetype": "text/x-python",
   "name": "python",
   "nbconvert_exporter": "python",
   "pygments_lexer": "ipython3",
   "version": "3.5.2"
  }
 },
 "nbformat": 4,
 "nbformat_minor": 1
}
