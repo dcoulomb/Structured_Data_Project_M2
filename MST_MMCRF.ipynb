{
 "cells": [
  {
   "cell_type": "code",
   "execution_count": 1,
   "metadata": {
    "collapsed": false
   },
   "outputs": [],
   "source": [
    "import numpy as np\n",
    "import matplotlib.pyplot as plt\n",
    "%matplotlib inline"
   ]
  },
  {
   "cell_type": "code",
   "execution_count": 16,
   "metadata": {
    "collapsed": false
   },
   "outputs": [
    {
     "data": {
      "text/plain": [
       "(2305, 59)"
      ]
     },
     "execution_count": 16,
     "metadata": {},
     "output_type": "execute_result"
    }
   ],
   "source": [
    "target = np.loadtxt('data_clean/ncicancer_bin_targets.txt')\n",
    "target.shape"
   ]
  },
  {
   "cell_type": "code",
   "execution_count": 12,
   "metadata": {
    "collapsed": false
   },
   "outputs": [
    {
     "data": {
      "text/plain": [
       "(2305, 2305)"
      ]
     },
     "execution_count": 12,
     "metadata": {},
     "output_type": "execute_result"
    }
   ],
   "source": [
    "hf = np.loadtxt('data_clean/ncicancer_input_kernel.txt')\n",
    "hf.shape"
   ]
  },
  {
   "cell_type": "markdown",
   "metadata": {},
   "source": [
    "# 1. Preprocessing et Formattage des données de sortie"
   ]
  },
  {
   "cell_type": "markdown",
   "metadata": {},
   "source": [
    "> On the github page of the project, it is written: \"We notice that the activity score is computed according -10*log(GI50). We still need binary value as the activity outcome for classification task. According to NCBI, a molecule is 'active' if the activity score is over(**=) 60 and 'inactive' otherwise.\"\n"
   ]
  },
  {
   "cell_type": "code",
   "execution_count": 17,
   "metadata": {
    "collapsed": false
   },
   "outputs": [],
   "source": [
    "y_label = target.copy()\n",
    "#y_label[y_label < 60] = -1\n",
    "#y_label[y_label >= 60] = 1"
   ]
  },
  {
   "cell_type": "code",
   "execution_count": 641,
   "metadata": {
    "collapsed": false
   },
   "outputs": [
    {
     "data": {
      "text/plain": [
       "(2305, 59)"
      ]
     },
     "execution_count": 641,
     "metadata": {},
     "output_type": "execute_result"
    }
   ],
   "source": [
    "y_label.shape"
   ]
  },
  {
   "cell_type": "code",
   "execution_count": 643,
   "metadata": {
    "collapsed": false
   },
   "outputs": [
    {
     "data": {
      "text/plain": [
       "[0,\n",
       " 1,\n",
       " 2,\n",
       " 3,\n",
       " 4,\n",
       " 5,\n",
       " 6,\n",
       " 7,\n",
       " 8,\n",
       " 9,\n",
       " 10,\n",
       " 11,\n",
       " 12,\n",
       " 13,\n",
       " 14,\n",
       " 15,\n",
       " 16,\n",
       " 17,\n",
       " 18,\n",
       " 19,\n",
       " 20,\n",
       " 21,\n",
       " 22,\n",
       " 23,\n",
       " 24,\n",
       " 25,\n",
       " 26,\n",
       " 27,\n",
       " 28,\n",
       " 29,\n",
       " 30,\n",
       " 31,\n",
       " 32,\n",
       " 33,\n",
       " 34,\n",
       " 35,\n",
       " 36,\n",
       " 37,\n",
       " 38,\n",
       " 39,\n",
       " 40,\n",
       " 41,\n",
       " 42,\n",
       " 43,\n",
       " 44,\n",
       " 45,\n",
       " 46,\n",
       " 47,\n",
       " 48,\n",
       " 49,\n",
       " 50,\n",
       " 51,\n",
       " 52,\n",
       " 53,\n",
       " 54,\n",
       " 55,\n",
       " 56,\n",
       " 57,\n",
       " 58]"
      ]
     },
     "execution_count": 643,
     "metadata": {},
     "output_type": "execute_result"
    }
   ],
   "source": [
    "G.nodes()"
   ]
  },
  {
   "cell_type": "code",
   "execution_count": 18,
   "metadata": {
    "collapsed": false
   },
   "outputs": [],
   "source": [
    "Kx = hf"
   ]
  },
  {
   "cell_type": "markdown",
   "metadata": {},
   "source": [
    "** Visulisation des données: Repartition de la bioactivité moléculaire **"
   ]
  },
  {
   "cell_type": "code",
   "execution_count": 19,
   "metadata": {
    "collapsed": false,
    "scrolled": true
   },
   "outputs": [
    {
     "data": {
      "text/plain": [
       "[<matplotlib.lines.Line2D at 0x24b399c6fd0>]"
      ]
     },
     "execution_count": 19,
     "metadata": {},
     "output_type": "execute_result"
    },
    {
     "data": {
      "image/png": "[encoded data removed]",
      "text/plain": [
       "<matplotlib.figure.Figure at 0x24b3992d908>"
      ]
     },
     "metadata": {},
     "output_type": "display_data"
    }
   ],
   "source": [
    "y_=np.empty(1)\n",
    "for i in np.unique(target):\n",
    "    y_ = np.append(y_,len(target[target == float(i)]))\n",
    "y_= y_[1:]\n",
    "plt.plot(np.unique(target), y_)"
   ]
  },
  {
   "cell_type": "markdown",
   "metadata": {},
   "source": [
    "> On observe 3 pics de bioactivité modélculaire: 40, 60, 80. On en fait l'interprétation suivante (en accord avec les analyses de l'article):\n",
    "\n",
    "> le pic à 40 peut être vu comme la mesure représentant une inactivité\n",
    "\n",
    "> le pic à 80 peut être vu comme la mesure représentant une activité\n",
    "\n",
    "> il y a des variations autour de ces données, avec une limite à 60. Cette limite est discutable. C'est celle utilisé dans l'article, mais on pourrait imaginer tester une autre limite d'activité."
   ]
  },
  {
   "cell_type": "markdown",
   "metadata": {},
   "source": [
    "** Justification de la limite à 60: Limite maximum pour que chaque molécule soit active sur un type de cellules, au moins**"
   ]
  },
  {
   "cell_type": "code",
   "execution_count": 21,
   "metadata": {
    "collapsed": false,
    "scrolled": true
   },
   "outputs": [
    {
     "data": {
      "text/plain": [
       "1.0"
      ]
     },
     "execution_count": 21,
     "metadata": {},
     "output_type": "execute_result"
    }
   ],
   "source": [
    "np.min(np.max(target, axis=1))"
   ]
  },
  {
   "cell_type": "markdown",
   "metadata": {},
   "source": [
    "# 2. Markov Network"
   ]
  },
  {
   "cell_type": "markdown",
   "metadata": {},
   "source": [
    "The first step is to construct from the target data (cell-lines bioactivity) a correlation matrix between the pairs of cell lines. Then, we can extract the Markov network from the matrix by favoring high-valued pairs (two methods will be explained afterwards)"
   ]
  },
  {
   "cell_type": "code",
   "execution_count": 22,
   "metadata": {
    "collapsed": false
   },
   "outputs": [],
   "source": [
    "cov = np.cov(np.transpose(target)) # covariance matrix\n",
    "pres = np.linalg.inv(cov) # precision matrix"
   ]
  },
  {
   "cell_type": "markdown",
   "metadata": {},
   "source": [
    "### 2.1. Maximum weight spanning tree"
   ]
  },
  {
   "cell_type": "markdown",
   "metadata": {},
   "source": [
    "In the paper, the maximum spanning tree is computed from additional data. Since we don't directly have access to this data, we tried first to build this tree by using the covariance matrix only (advise from Florence D'Alché Buc).\n",
    "\n",
    "Using more additional data could be a way of improvement"
   ]
  },
  {
   "cell_type": "code",
   "execution_count": 24,
   "metadata": {
    "collapsed": false,
    "scrolled": false
   },
   "outputs": [
    {
     "data": {
      "image/png": "[encoded data removed]",
      "text/plain": [
       "<matplotlib.figure.Figure at 0x24b39a31470>"
      ]
     },
     "metadata": {},
     "output_type": "display_data"
    }
   ],
   "source": [
    "import networkx as nx\n",
    "from spanning_tree import maximum_spanning_tree\n",
    "A = cov.copy()\n",
    "G = nx.from_numpy_matrix(A) # total graph\n",
    "G = maximum_spanning_tree(G) # graph mst (minimum spanning tree)\n",
    "nx.draw(G, node_size=5)"
   ]
  },
  {
   "cell_type": "markdown",
   "metadata": {},
   "source": [
    "**Computing the tree on the normalized coviarance: **\n",
    "This method doesn't give the same results. Indeed, since the delta between all the data are very small, changing the path doesn't change the total weight sum a lot. That is why we end up with a very different graph. We will keep the first one (without normalization)."
   ]
  },
  {
   "cell_type": "markdown",
   "metadata": {},
   "source": [
    "**Understanding the Graph**"
   ]
  },
  {
   "cell_type": "code",
   "execution_count": 27,
   "metadata": {
    "collapsed": false
   },
   "outputs": [
    {
     "name": "stdout",
     "output_type": "stream",
     "text": [
      "59\n",
      "59\n",
      "[ 0 45 15 19 10 24 12  9 56 55 21 30 18  4 20  7 32 17 41  3 40 25 22 11 31\n",
      " 54 13  1 53 58 33 26 34 38 27 23 28  2 29  5 42 14 16  6 52 37 35  8 36 46\n",
      " 39 44 43 49 50 57 47 51 48]\n",
      "True\n",
      "[(0, 45), (0, 5), (1, 24), (1, 44), (2, 4), (3, 20), (3, 7), (4, 24), (6, 31), (7, 52), (8, 41), (9, 10), (9, 45), (10, 16), (10, 35), (10, 40), (10, 12), (10, 15), (11, 40), (12, 20), (12, 14), (13, 15), (15, 33), (17, 24), (17, 38), (17, 39), (18, 19), (19, 45), (20, 42), (21, 24), (21, 54), (22, 24), (23, 24), (24, 28), (24, 45), (25, 26), (25, 29), (25, 31), (27, 37), (27, 30), (30, 32), (30, 55), (30, 31), (31, 49), (31, 50), (31, 46), (33, 34), (36, 45), (41, 57), (41, 45), (43, 45), (45, 56), (45, 55), (47, 50), (48, 50), (49, 51), (53, 56), (56, 58)]\n"
     ]
    }
   ],
   "source": [
    "print(G.number_of_nodes())\n",
    "print(G.order())\n",
    "print(np.argsort(cov[0])[::-1])\n",
    "test = np.argsort(cov[0])[::-1] [1]\n",
    "print(G.has_edge(0,test))\n",
    "print(G.edges()) #** Get edges for further analysis and use (mmCRF) **"
   ]
  },
  {
   "cell_type": "code",
   "execution_count": 30,
   "metadata": {
    "collapsed": false
   },
   "outputs": [
    {
     "data": {
      "text/plain": [
       "232"
      ]
     },
     "execution_count": 30,
     "metadata": {},
     "output_type": "execute_result"
    }
   ],
   "source": [
    "len(G.edges())*4"
   ]
  },
  {
   "cell_type": "markdown",
   "metadata": {},
   "source": [
    "### 2.2. Correlation thresholding"
   ]
  },
  {
   "cell_type": "markdown",
   "metadata": {},
   "source": [
    "Take all edges that exceed fixed threshold. This approach typically generates a general non-tree graph"
   ]
  },
  {
   "cell_type": "code",
   "execution_count": 25,
   "metadata": {
    "collapsed": false
   },
   "outputs": [],
   "source": [
    "threshold = 135\n",
    "A_thresh = cov.copy()\n",
    "A_thresh[cov < threshold] = 0"
   ]
  },
  {
   "cell_type": "code",
   "execution_count": 26,
   "metadata": {
    "collapsed": false,
    "scrolled": false
   },
   "outputs": [
    {
     "name": "stderr",
     "output_type": "stream",
     "text": [
      "/Users/domitillecoulomb/anaconda3/lib/python3.5/site-packages/networkx/drawing/nx_pylab.py:126: MatplotlibDeprecationWarning: pyplot.hold is deprecated.\n",
      "    Future behavior will be consistent with the long-time default:\n",
      "    plot commands add elements without first clearing the\n",
      "    Axes and/or Figure.\n",
      "  b = plt.ishold()\n",
      "/Users/domitillecoulomb/anaconda3/lib/python3.5/site-packages/networkx/drawing/nx_pylab.py:138: MatplotlibDeprecationWarning: pyplot.hold is deprecated.\n",
      "    Future behavior will be consistent with the long-time default:\n",
      "    plot commands add elements without first clearing the\n",
      "    Axes and/or Figure.\n",
      "  plt.hold(b)\n",
      "/Users/domitillecoulomb/anaconda3/lib/python3.5/site-packages/matplotlib/__init__.py:917: UserWarning: axes.hold is deprecated. Please remove it from your matplotlibrc and/or style files.\n",
      "  warnings.warn(self.msg_depr_set % key)\n",
      "/Users/domitillecoulomb/anaconda3/lib/python3.5/site-packages/matplotlib/rcsetup.py:152: UserWarning: axes.hold is deprecated, will be removed in 3.0\n",
      "  warnings.warn(\"axes.hold is deprecated, will be removed in 3.0\")\n"
     ]
    },
    {
     "data": {
      "image/png": "[encoded data removed]",
      "text/plain": [
       "<matplotlib.figure.Figure at 0x10f64d320>"
      ]
     },
     "metadata": {},
     "output_type": "display_data"
    }
   ],
   "source": [
    "import networkx as nx\n",
    "fig = plt.figure(figsize=(5,5))\n",
    "G_thresh = nx.from_numpy_matrix(A_thresh)\n",
    "rows, cols = np.where(A_thresh != 0)\n",
    "edges = zip(rows.tolist(), cols.tolist())\n",
    "G_thresh.add_edges_from(edges) \n",
    "nx.draw(G_thresh, node_size=5)"
   ]
  },
  {
   "cell_type": "markdown",
   "metadata": {},
   "source": [
    "**Normalizing: ** Here, normalizing has a sense. Edges are determined by the thresholding, but when it is done we can normalize the weights. It will be the exact same edges, but normlized, which it better for vizualisation (see above). It makes sense to keep this method (with normalization)."
   ]
  },
  {
   "cell_type": "code",
   "execution_count": 27,
   "metadata": {
    "collapsed": false
   },
   "outputs": [
    {
     "name": "stderr",
     "output_type": "stream",
     "text": [
      "/Users/domitillecoulomb/anaconda3/lib/python3.5/site-packages/networkx/drawing/nx_pylab.py:126: MatplotlibDeprecationWarning: pyplot.hold is deprecated.\n",
      "    Future behavior will be consistent with the long-time default:\n",
      "    plot commands add elements without first clearing the\n",
      "    Axes and/or Figure.\n",
      "  b = plt.ishold()\n",
      "/Users/domitillecoulomb/anaconda3/lib/python3.5/site-packages/networkx/drawing/nx_pylab.py:138: MatplotlibDeprecationWarning: pyplot.hold is deprecated.\n",
      "    Future behavior will be consistent with the long-time default:\n",
      "    plot commands add elements without first clearing the\n",
      "    Axes and/or Figure.\n",
      "  plt.hold(b)\n",
      "/Users/domitillecoulomb/anaconda3/lib/python3.5/site-packages/matplotlib/__init__.py:917: UserWarning: axes.hold is deprecated. Please remove it from your matplotlibrc and/or style files.\n",
      "  warnings.warn(self.msg_depr_set % key)\n",
      "/Users/domitillecoulomb/anaconda3/lib/python3.5/site-packages/matplotlib/rcsetup.py:152: UserWarning: axes.hold is deprecated, will be removed in 3.0\n",
      "  warnings.warn(\"axes.hold is deprecated, will be removed in 3.0\")\n"
     ]
    },
    {
     "data": {
      "image/png": "[encoded data removed]",
      "text/plain": [
       "<matplotlib.figure.Figure at 0x114f7b048>"
      ]
     },
     "metadata": {},
     "output_type": "display_data"
    }
   ],
   "source": [
    "from sklearn import preprocessing\n",
    "A_thresh = preprocessing.normalize(A_thresh)\n",
    "\n",
    "G_thresh = nx.from_numpy_matrix(A_thresh)\n",
    "rows, cols = np.where(A_thresh != 0)\n",
    "edges = zip(rows.tolist(), cols.tolist())\n",
    "G_thresh.add_edges_from(edges) \n",
    "nx.draw(G_thresh, node_size=5)"
   ]
  },
  {
   "cell_type": "markdown",
   "metadata": {},
   "source": [
    "# 3. MMCRF"
   ]
  },
  {
   "cell_type": "markdown",
   "metadata": {},
   "source": [
    "## 3.1 Theoritical problem"
   ]
  },
  {
   "cell_type": "markdown",
   "metadata": {},
   "source": [
    "See paper **Efficient Algorithms for Max-Margin Structured Classification, Juho Rousu et al.**\n",
    "\n",
    "Explains very well the optimization problem to be resolved in section 1.2.6 **Marginal dual problem**:\n",
    "\n",
    "$$ \\max_{\\mu}\\mu^{T} l_{H} − \\frac{1}{2}\\mu^{T}K_{H}\\mu $$\n",
    "\n",
    "Then the gradient becomes: \n",
    "\n",
    "$$ g = l_{H} − K_{H}\\mu $$\n",
    "\n",
    "Furthermore, the objective can be written as :  \n",
    "$$obj = \\mu^{T} l_{H} − \\frac{1}{2}\\mu^{T}K_{H}\\mu$$\n",
    "$$obj = \\sum_{i=1}^{m}\\sum_{e\\in E}\\sum_{u\\in Y_{E}} \\mu(e,u) l_{H}(i,u) − \\frac{1}{2}\\sum_{e\\in E}\\sum_{i,i^{'}}\\sum_{u,u^{'}} \\mu_{e}(i,u)K_{e}(i,u;i^{'},u^{'})\\mu_{e}(i^{'},u^{'})$$\n",
    "\n",
    "That's why we need to construct the full loss vector (for each of the 4 possible labels), and K_mu_X and K_mu for the gradient descent\n"
   ]
  },
  {
   "cell_type": "code",
   "execution_count": null,
   "metadata": {
    "collapsed": true
   },
   "outputs": [],
   "source": []
  },
  {
   "cell_type": "markdown",
   "metadata": {},
   "source": [
    "## 3.2 Conditional Gradient Algorithm"
   ]
  },
  {
   "cell_type": "markdown",
   "metadata": {},
   "source": [
    "### 3.2.1. Functions for the algorithm"
   ]
  },
  {
   "cell_type": "markdown",
   "metadata": {},
   "source": [
    "**Loss Vector**"
   ]
  },
  {
   "cell_type": "code",
   "execution_count": 605,
   "metadata": {
    "collapsed": false
   },
   "outputs": [
    {
     "name": "stdout",
     "output_type": "stream",
     "text": [
      "Computing loss vector...\n",
      "plop\n"
     ]
    },
    {
     "data": {
      "text/plain": [
       "(232, 2305)"
      ]
     },
     "execution_count": 605,
     "metadata": {},
     "output_type": "execute_result"
    }
   ],
   "source": [
    "#Y_tr=y_label, G=G\n",
    "def compute_loss_vector(E, Y_tr):\n",
    "    \"\"\"\n",
    "    LOSS VECTOR\n",
    "    Compute loss vector to be used in the conditional gradient optimization\n",
    "    \"\"\"\n",
    "    \n",
    "    print('Computing loss vector...')\n",
    "    \n",
    "    labels = [-1,1]\n",
    "    m = Y_tr.shape[0]\n",
    "    e = len(E)\n",
    "    \n",
    "    \"\"\"Initialize loss of size (4, M*E):\n",
    "        M: nb of melecules\n",
    "        E: nb of edges to be predicted for each molecule\n",
    "        4: nb of losses to be computed (for each of the four possible labeling we compute a different loss)\"\"\"\n",
    "    loss = np.ones((4,m*e))\n",
    "    \n",
    "    E_tail = [elt[0] for elt in E]\n",
    "    E_head = [elt[1] for elt in E]\n",
    "    Te1 = Y_tr[:,E_tail] # the label of edge tail\n",
    "    print(\"plop\")\n",
    "    Te2 = Y_tr[:,E_head] # the label of edge head\n",
    "    \n",
    "    \"\"\"Scaling the loss : rescale to microlabels by dividing node loss among the adjacent edges\"\"\"\n",
    "    NodeDegree = np.array(list(G.degree().values()))\n",
    "    NodeDegree = np.repeat(np.expand_dims(NodeDegree, axis = 0), m, axis=0)\n",
    "    # np.concatenate() ?\n",
    "    \n",
    "    u = 0\n",
    "    for u_1 in labels:\n",
    "        for u_2 in labels:\n",
    "            loss[u,:] = np.concatenate(np.divide((Te1 != u_1), NodeDegree[:, E_head]) + np.divide((Te2 != u_2), NodeDegree[:, E_tail]))\n",
    "            u += 1\n",
    "    loss = np.resize(loss, (4*e,m)) # try transpose\n",
    "    \n",
    "    return loss\n",
    "\n",
    "loss = compute_loss_vector(E, y_label)\n",
    "\n",
    "loss.shape\n",
    "    "
   ]
  },
  {
   "cell_type": "code",
   "execution_count": 606,
   "metadata": {
    "collapsed": false
   },
   "outputs": [],
   "source": [
    "def compute_duality_gap(E, Y_tr, loss, Kmu, mu, primal_ub):\n",
    "    \"\"\"\n",
    "    DUALITY GAP\n",
    "    \"\"\"\n",
    "    \n",
    "    m = Y_tr.shape[0]\n",
    "    e = len(E)\n",
    "    \n",
    "    loss = np.resize(loss, (4,e*m))\n",
    "    Kmu = np.resize(Kmu, (4,e*m))\n",
    "    mu = np.resize(mu, (4,e*m))\n",
    "    \n",
    "    gradient = loss - Kmu\n",
    "    \n",
    "    #gradient = np.resize(gradient, (4,e*m)) # inutile ?\n",
    "    \n",
    "    dgap = float('inf'); LBP_iter = 1; Gmax = -float('inf')\n",
    "    \n",
    "    while LBP_iter <= e:\n",
    "        \n",
    "        LBP_iter *= 2 # no of iterations = diameter of the graph\n",
    "        Ymax, max_gradient = max_gradient_labeling(gradient, LBP_iter) # \"max_gradient\" not to confuse with G\n",
    "        ' \"max_gradient\" of size (4*e,m) '\n",
    "        Gmax = np.maximum(Gmax, max_gradient)\n",
    "        ' C: SVM hyperparameter '\n",
    "        duality_gap = C*np.maximum(Gmax,0) - np.sum(np.resize(np.sum(gradient*mu, 0), (e,m)), 0)\n",
    "        dgap = np.sum(duality_gap)\n",
    "        \n",
    "        if obj+dgap < primal_ub+1e-6:\n",
    "            break\n",
    "            \n",
    "    # primal_ub = min(obj+dgap,primal_ub);\n",
    "    \n",
    "    if primal_ub == float('inf'): # initial value\n",
    "         primal_ub = obj+dgap;\n",
    "    else:\n",
    "         primal_ub = (obj+dgap)/min(opt_round,10) + primal_ub*(1-1/min(opt_round,10)); # averaging over a few last rounds\n",
    "\n",
    "    #loss = np.reisze(loss, (4*e,m))\n",
    "    #Kmu = np.reisze(Kmu, (4*e,m))\n",
    "    #mu = np.reisze(mu, (4*e,m))\n",
    "    \n",
    "    return dgap, primal_ub"
   ]
  },
  {
   "cell_type": "code",
   "execution_count": 649,
   "metadata": {
    "collapsed": true
   },
   "outputs": [],
   "source": [
    "def Y2U(E, Y_tr):\n",
    "    \"\"\"\n",
    "    CONVERT NODE LABELING TO EDGE LABELING\n",
    "    \"\"\"\n",
    "\n",
    "    m = Y_tr.shape[0]\n",
    "    e = len(E)\n",
    "\n",
    "    U = np.zeros((4,e*m))\n",
    "    \n",
    "    E_tail = [elt[0] for elt in E]\n",
    "    E_head = [elt[1] for elt in E]\n",
    "    Te1 = Y_tr[:,E_tail] # the label of edge tail\n",
    "    Te2 = Y_tr[:,E_head] # the label of edge head\n",
    "\n",
    "    U[0,:] = np.resize(np.logical_and(Te1 == -1, Te2 == -1), (1,e*m))\n",
    "    U[1,:] = np.resize(np.logical_and(Te1 == -1, Te2 == -1), (1,e*m))\n",
    "    U[2,:] = np.resize(np.logical_and(Te1 == 1, Te2 == 1), (1,e*m))\n",
    "    U[3,:] = np.resize(np.logical_and(Te1 == 1, Te2 == 1), (1,e*m))\n",
    "    \n",
    "    return U"
   ]
  },
  {
   "cell_type": "code",
   "execution_count": 650,
   "metadata": {
    "collapsed": false
   },
   "outputs": [],
   "source": [
    "def max_gradient_labeling_brute_force(E, Y_tr, gradient):\n",
    "    \"\"\"\n",
    "    Brute force inference of max. gradient labeling\n",
    "    \"\"\"\n",
    "\n",
    "    m, l = Y_tr.shape\n",
    "    e = len(E)\n",
    "\n",
    "    Yall = np.zeros((2.**l,l))\n",
    "    \n",
    "    for j in range(l):\n",
    "        \n",
    "        tmp = np.concatenate((-np.ones((2**j,1)),np.ones((2**j,1))))\n",
    "        Yall[:,j] = np.concatenate(np.repeat(np.expand_dims(tmp, 0), 2**(l-(j+1)), 0))[:,0]\n",
    "\n",
    "\n",
    "    Yall = np.fliplr(Yall)\n",
    "\n",
    "    Uall = np.resize(Y2U(Yall), (4*e,2**l))\n",
    "    gradient = np.resize(gradient, (4*e,m))\n",
    "\n",
    "    tmp = gradient.T.dot(Uall)\n",
    "    \n",
    "    Gmax = np.amax(tmp, 0) # ??\n",
    "    Imax = np.argmax(tmp, 0) # ??\n",
    "    Ymax = Yall[Imax,:] # np.unique ??\n",
    "                  \n",
    "    return Ymax, Gmax"
   ]
  },
  {
   "cell_type": "code",
   "execution_count": 651,
   "metadata": {
    "collapsed": true
   },
   "outputs": [],
   "source": [
    "class params():\n",
    "    \n",
    "    def __init__(self):\n",
    "        self.a = 1\n",
    "        self.b = 2"
   ]
  },
  {
   "cell_type": "code",
   "execution_count": 652,
   "metadata": {
    "collapsed": false
   },
   "outputs": [
    {
     "name": "stdout",
     "output_type": "stream",
     "text": [
      "plip\n"
     ]
    }
   ],
   "source": [
    "if 'z' in locals():\n",
    "    print(\"plop\")\n",
    "else:\n",
    "    print(\"plip\")"
   ]
  },
  {
   "cell_type": "code",
   "execution_count": 719,
   "metadata": {
    "collapsed": false
   },
   "outputs": [],
   "source": [
    "def max_gradient_labeling(E, n_nodes, Y_tr, gradient, MBProp, MBPropEdgeNode, params):\n",
    "    \"\"\"\n",
    "    MAX GRAD. LABELING VIA LOOPY BELIEF PROPAGATION\n",
    "    Find maximum gradient labeling for a single example using Loopy Belief Propagation\n",
    "    \n",
    "    gradient is of size (4*e,m) and contains the gradient (m-vector) for each edge-labeling (4*e in total)\n",
    "    MBProp (2*e,2*e) direction-specific adjacency matrix\n",
    "    \"\"\"\n",
    "    \n",
    "    m, l = Y_tr.shape\n",
    "    e = len(E)\n",
    "    \n",
    "    if params.debugging==1:\n",
    "        Ymax, Gmax = max_gradient_labeling_brute_force(E, Y_tr, gradient)\n",
    "    else:\n",
    "\n",
    "        ineg = 1; ipos = 2;\n",
    "\n",
    "        if np.all(MBProp==np.zeros((2*e, 2*e))): # MBProp is set to its initial values\n",
    "            MBProp, MBPropEdgeNode = buildBeliefPropagationMatrix(E, n_nodes) # TO-DO\n",
    "\n",
    "        gradient = np.resize(gradient, (4,e*m))\n",
    "\n",
    "        ' Edge-labeling specific gradient matrices (m,e) '\n",
    "        Gnn = np.resize(gradient[0,:], (e,m)).T # edge-gradients for labeling [-1,-1]\n",
    "        Gnp = np.resize(gradient[1,:], (e,m)).T # edge-gradients for labeling [-1,+1]\n",
    "        Gpn = np.resize(gradient[2,:], (e,m)).T # edge-gradients for labeling [+1,-1]\n",
    "        Gpp = np.resize(gradient[3,:], (e,m)).T # edge-gradients for labeling [+1,+1]\n",
    "\n",
    "        ' SumMsg_*_*: mx|E| matrices storing the sums of neighboring messages from '\n",
    "        ' the head and tail of the edge, respectively, on the condition that '\n",
    "        ' the head (resp. tail) is labeled with -1 --> neg or +1 --> pos. '\n",
    "        SumMsg_head_neg = np.zeros((m,e))\n",
    "        SumMsg_head_pos = np.zeros((m,e))\n",
    "        SumMsg_tail_neg = np.zeros((m,e))\n",
    "        SumMsg_tail_pos = np.zeros((m,e))\n",
    "\n",
    "        iTail = np.arange(e)\n",
    "        iHead = np.arange(e,2*e)\n",
    "\n",
    "        ' Iterate until messages have had time to go accros the whole graph: at '\n",
    "        ' most this takes O(e) iterations (i.e. when the graph is a chain) '\n",
    "        for it in range(params.max_iter):\n",
    "            ' find max-gradient configuration and propage gradient value over the edge '\n",
    "            Msg_head_neg = np.maximum(SumMsg_tail_pos+Gpn, SumMsg_tail_neg+Gnn)\n",
    "            Msg_head_pos = np.maximum(SumMsg_tail_pos+Gpp, SumMsg_tail_neg+Gnp)\n",
    "            Msg_tail_neg = np.maximum(SumMsg_head_pos+Gnp, SumMsg_head_neg+Gnn)\n",
    "            Msg_tail_pos = np.maximum(SumMsg_head_pos+Gpp, SumMsg_head_neg+Gpn)\n",
    "\n",
    "            ' Sum up gradients of consistent configurations and propage to neighboring edges '\n",
    "            SumMsg_tail_neg = np.hstack((Msg_tail_neg, Msg_head_neg)).dot(MBProp[:,iTail])\n",
    "            SumMsg_tail_pos = np.hstack((Msg_tail_pos, Msg_head_pos)).dot(MBProp[:,iTail])\n",
    "            SumMsg_head_neg = np.hstack((Msg_tail_neg, Msg_head_neg)).dot(MBProp[:,iHead])\n",
    "            SumMsg_head_pos = np.hstack((Msg_tail_pos, Msg_head_pos)).dot(MBProp[:,iHead])\n",
    "\n",
    "\n",
    "        ' find out the labeling: sum up the edge messages coming towards each node '\n",
    "        M_max1 = np.hstack((Msg_tail_neg, Msg_head_neg)).dot(MBPropEdgeNode)\n",
    "        M_max2 = np.hstack((Msg_tail_pos, Msg_head_pos)).dot(MBPropEdgeNode)\n",
    "        ' pick the label of maximum message value '\n",
    "        Ymax = (M_max1 <= M_max2)*2 - 1\n",
    "\n",
    "        \n",
    "        ' find out the max gradient for each example: pick out the edge labelings consistent with Ymax '        \n",
    "        E_tail = [elt[0] for elt in E]\n",
    "        E_head = [elt[1] for elt in E]\n",
    "        \n",
    "        Te1 = Ymax[:,E_tail] # the label of edge tail\n",
    "        Te2 = Ymax[:,E_head]\n",
    "                \n",
    "        Umax = np.zeros((4, e*m))\n",
    "                \n",
    "        Umax[0,:] = np.resize(np.logical_and(Te1 == -1, Te2 == -1).T, (1,e*m))\n",
    "        Umax[1,:] = np.resize(np.logical_and(Te1 == -1, Te2 == 1).T, (1,e*m))\n",
    "        Umax[2,:] = np.resize(np.logical_and(Te1 == 1, Te2 == -1).T, (1,e*m))\n",
    "        Umax[3,:] = np.resize(np.logical_and(Te1 == 1, Te2 == 1).T, (1,e*m))\n",
    "        ' sum up the corresponding edge-gradients '\n",
    "        Gmax = np.resize(np.sum(gradient*Umax, 0), (e,m))\n",
    "        Gmax = np.resize(np.sum(Gmax, 0), (m,1))\n",
    "\n",
    "        gradient = np.resize(gradient, (4*e,m))\n",
    "                                \n",
    "    return Ymax, Gmax"
   ]
  },
  {
   "cell_type": "code",
   "execution_count": 680,
   "metadata": {
    "collapsed": false
   },
   "outputs": [],
   "source": [
    "def buildBeliefPropagationMatrix(E, n_nodes):\n",
    "    \"\"\"\n",
    "    Construct a matrix containing the neighborhood information of the edges.\n",
    "    The matrix consists of four blocks, corresponding to the edges that merge \n",
    "    (e(2) = e'(2)), branch (e(1) = e'(1)), form a chain forward (e(2) = e'(1)) or backward (e(1) = e'(2))\n",
    "    \"\"\"\n",
    "    \n",
    "    e = len(E)\n",
    "    \n",
    "    E_tail = [elt[0] for elt in E]\n",
    "    E_head = [elt[1] for elt in E]\n",
    "\n",
    "    MBProp = np.zeros((2*e, 2*e)) # for edge to edge propagation\n",
    "    MBPropEdgeNode = np.zeros((2*e, n_nodes)) # for edge to node propagation\n",
    "\n",
    "    iTail = np.arange(e)\n",
    "    iHead = np.arange(e,2*e)\n",
    "\n",
    "    for node in range(n_nodes):\n",
    "        eTail = np.where(np.asarray(E_tail) == node)[0]\n",
    "        eHead = np.where(np.asarray(E_head) == node)[0]\n",
    "\n",
    "        ' Edges that meet node with their tail '\n",
    "        MBPropEdgeNode[iTail[eTail], node] = 1;\n",
    "        ' Edges that meet node with the head '\n",
    "        MBPropEdgeNode[iHead[eHead], node] = 1;\n",
    "\n",
    "        ' Matrix block for progating messages from edges that meet with their tails at node (eTail) '\n",
    "        Link = MBProp[np.ix_(iTail,iTail)]\n",
    "        Link[np.ix_(eTail,eTail)] = 1\n",
    "        ' remove diagonal; we do not propage messages back to self '\n",
    "        MBProp[np.ix_(iTail, iTail)] = Link - np.diag(np.diag(Link)) # check\n",
    "\n",
    "        ' Matrix block for progating messages via a backward chain (eTail meeting eHead) at node '\n",
    "        ' messages will go from iTail to iTail (excluding self loops) '\n",
    "        Link = MBProp[np.ix_(iTail, iHead)]\n",
    "        Link[np.ix_(eTail, eHead)] = 1\n",
    "        ' remove diagonal; in case there are self loops e = (v,v) in the graph '\n",
    "        MBProp[np.ix_(iTail, iHead)] = Link - np.diag(np.diag(Link))\n",
    "\n",
    "        ' Matrix block for progating messages from edges that meet with their heads at node (eHead) '\n",
    "        Link = MBProp[np.ix_(iHead, iHead)]\n",
    "        Link[np.ix_(eHead, eHead)] = 1 \n",
    "        ' remove diagonal; we do not propage messages back to self '\n",
    "        MBProp[np.ix_(iHead, iHead)] = Link - np.diag(np.diag(Link))\n",
    "\n",
    "        ' Matrix block for progating messages  via a forward chain (eHead meeting eTail) at node; '\n",
    "        Link = MBProp[np.ix_(iHead, iTail)]\n",
    "        Link[np.ix_(eHead, eTail)] = 1\n",
    "        ' remove diagonal; in case there are self loops e = (v,v) in the graph '\n",
    "        MBProp[np.ix_(iHead, iTail)] = Link - np.diag(np.diag(Link))\n",
    "\n",
    "    return MBProp, MBPropEdgeNode"
   ]
  },
  {
   "cell_type": "code",
   "execution_count": 681,
   "metadata": {
    "collapsed": false
   },
   "outputs": [],
   "source": [
    "def compute_w_phi_e(E, Ye, mu, Kx):\n",
    "    \n",
    "    e = len(E)\n",
    "    \n",
    "    m = Ye.shape[1]\n",
    "    Ye = np.resize(Ye, (4,e*m))\n",
    "    mu = np.resize(mu, (4,e*m))\n",
    "    m_oup = Kx.shape[1]\n",
    "\n",
    "    if (np.where(mu==1)[0].size)==0: # no match\n",
    "        w_phi_e = np.zeros((4, e*m_oup))\n",
    "    else  :\n",
    "        w_phi_e = np.sum(mu, 0)\n",
    "        w_phi_e = np.repeat(np.expand_dims(np.sum(w_phi_e, 0), 0), 4, 0)\n",
    "        w_phi_e = Ye*w_phi_e\n",
    "        w_phi_e = w_phi_e - mu\n",
    "        w_phi_e = np.resize(w_phi_e, (4*e,m))\n",
    "        w_phi_e = w_phi_e*Kx\n",
    "        w_phi_e = np.resize(w_phi_e, (4,e*m_oup))\n",
    "\n",
    "    return w_phi_e"
   ]
  },
  {
   "cell_type": "code",
   "execution_count": 682,
   "metadata": {
    "collapsed": false
   },
   "outputs": [],
   "source": [
    "def compute_error(E, Y_tr, Kx, mu, Ye, gradient, MBProp, MBPropEdgeNode, max_iter, params):\n",
    "    \"\"\"\n",
    "    MODEL ERROR COMPUTATION\n",
    "    \"\"\"\n",
    "\n",
    "    w_phi_e = compute_w_phi_e(E, Ye, mu, Kx)\n",
    "    Ypred, _ = max_gradient_labeling(E, Y_tr, gradient, MBProp, MBPropEdgeNode, max_iter, params)\n",
    "    \n",
    "    return Ypred"
   ]
  },
  {
   "cell_type": "code",
   "execution_count": 784,
   "metadata": {
    "collapsed": true
   },
   "outputs": [],
   "source": [
    "def invert(X):\n",
    "    return [not x for x in X]"
   ]
  },
  {
   "cell_type": "code",
   "execution_count": 1015,
   "metadata": {
    "collapsed": false
   },
   "outputs": [],
   "source": [
    "def optimize_x(E, n_nodes, Y_tr, MBProp, MBPropEdgeNode, Rmu, Smu, IndEdgeVal, x, obj, mu_x, Kmu_x, kxx_mu_x, loss_x, te_x, params):\n",
    "    \"\"\"\n",
    "    Conditional gradient optimizer for a single example\n",
    "    \"\"\"\n",
    "\n",
    "    it = 0\n",
    "    while it < params.max_iter:\n",
    "\n",
    "        gradient = loss_x - Kmu_x[:,0] \n",
    "        if np.linalg.norm(gradient) < params.tolerance:\n",
    "            break\n",
    "    \n",
    "        ' find maximum gradient labeling (worst margin violator) '\n",
    "        Ymax, Gmax = max_gradient_labeling(E, n_nodes, Y_tr, gradient, MBProp, MBPropEdgeNode, params)\n",
    "\n",
    "        ' gradient towards zero '\n",
    "        G0 = -mu_x.T.dot(gradient)\n",
    "        \n",
    "        ' convert to update direction '\n",
    "        E_tail = [elt[0] for elt in E]\n",
    "        E_head = [elt[1] for elt in E]\n",
    "        Umax_e = 1 + 2*(Ymax[:,E_tail]>0) + (Ymax[:,E_head] >0)\n",
    "\n",
    "        mu_1 = np.zeros(mu_x.shape)\n",
    "        if np.all(Gmax > np.maximum(params.tolerance, G0)): # CHECK\n",
    "        \n",
    "            for u in range(4):\n",
    "                mu_1[4*(np.arange(e))-4 + u] = params.C*(Umax_e == u)\n",
    "          \n",
    "\n",
    "            if np.sum(mu_1) > 0:\n",
    "                smu_1_te = np.sum(np.resize(mu_1*te_x, (4,e)), 0)\n",
    "                tmp = np.repeat(np.expand_dims(smu_1_te, 0), 4, 0)\n",
    "                smu_1_te = np.resize(tmp, (mu_x.shape[0],1))\n",
    "                kxx_mu_1 = np.asarray(invert(te_x))*params.C + mu_1 - smu_1_te[:,0]\n",
    "                \n",
    "                # kxx_mu_1 = ones(size(te_x))*C-te_x*C-smu_1_te+mu_1;\n",
    "            else:\n",
    "                kxx_mu_1 = np.zeros(mu_x.shape)\n",
    "\n",
    "            Kmu_1 = Kmu_x[:,0] + kxx_mu_1 - kxx_mu_x;\n",
    "\n",
    "        else:\n",
    "            if np.all(G0 < params.tolerance): # CHECK\n",
    "                break\n",
    "            else:\n",
    "                kxx_mu_1 = np.zeros(mu_x.shape)\n",
    "                mu_1 = np.zeros(mu_x.shape)\n",
    "                Kmu_1 = Kmu_x[:,0] + kxx_mu_1 - kxx_mu_x\n",
    "\n",
    "        d_x = mu_1 - mu_x\n",
    "\n",
    "        Kd_x = Kmu_1 - Kmu_x[:,0]\n",
    "        l = gradient.T.dot(d_x)\n",
    "        q = d_x.T.dot(Kd_x)\n",
    "        alpha = min(l/q,1)\n",
    "\n",
    "        delta_obj = gradient.T.dot(d_x)*alpha - alpha**2/2*d_x.T.dot(Kd_x) # CHECK\n",
    "\n",
    "        if np.logical_or(delta_obj <= 0, alpha <= 0):\n",
    "            break\n",
    "\n",
    "        mu_x = mu_x + d_x*alpha\n",
    "        Kmu_x = Kmu_x + Kd_x*alpha\n",
    "        obj = obj + delta_obj\n",
    "        kxx_mu_x = (1-alpha)*kxx_mu_x + alpha*kxx_mu_1\n",
    "\n",
    "        it = it + 1\n",
    "        \n",
    "    \"\"\"\n",
    "    For speeding up gradient computations: \n",
    "    store sums of marginal dual variables, distributed by the true edge values into Smu\n",
    "    store marginal dual variables, distributed by the pseudo edge values into Rmu\n",
    "    \"\"\"\n",
    "    for u in range(4):\n",
    "        Smu[u][:,x] = np.sum(mu_x).T*IndEdgeVal[u][:,x]\n",
    "        Rmu[u][:,x] = mu_x[u,:].T\n",
    "\n",
    "    mu_x = np.resize(mu_x, (4*e,1))\n",
    "    \n",
    "    return mu_x, kxx_mu_x, obj, it, Rmu, Smu"
   ]
  },
  {
   "cell_type": "code",
   "execution_count": 1016,
   "metadata": {
    "collapsed": false
   },
   "outputs": [
    {
     "data": {
      "text/plain": [
       "((4,), array([[[[ 0.,  0.,  0.,  0.],\n",
       "          [ 0.,  0.,  0.,  0.],\n",
       "          [ 0.,  0.,  0.,  0.]],\n",
       " \n",
       "         [[ 0.,  0.,  0.,  0.],\n",
       "          [ 0.,  0.,  0.,  0.],\n",
       "          [ 0.,  0.,  0.,  0.]]]]))"
      ]
     },
     "execution_count": 1016,
     "metadata": {},
     "output_type": "execute_result"
    }
   ],
   "source": [
    "a[0,:].shape, np.ndarray(a[0,:])"
   ]
  },
  {
   "cell_type": "markdown",
   "metadata": {},
   "source": [
    "**Gradient Computation**"
   ]
  },
  {
   "cell_type": "markdown",
   "metadata": {},
   "source": [
    "**K_mu_x**"
   ]
  },
  {
   "cell_type": "code",
   "execution_count": 1017,
   "metadata": {
    "collapsed": false
   },
   "outputs": [],
   "source": [
    "#mu_x = mu[:,x]\n",
    "\n",
    "def compute_Kmu_x(x, Kx, E, IndEdgeVal, Smu, Rmu):\n",
    "    \"\"\"\n",
    "    GRADIENT COMPUTATIONS\n",
    "    Gradient for x\n",
    "    \"\"\"\n",
    "    \n",
    "    m = Kx.shape[0]\n",
    "    e = len(E)\n",
    "    \n",
    "    \"\"\"\n",
    "    For speeding up gradient computations:\n",
    "    Smu : store sums of marginal dual variables, distributed by the true edge values\n",
    "    Rmu : store marginal dual variables, distributed by the pseudo edge values\n",
    "    ... ???\n",
    "    \"\"\"\n",
    "    \n",
    "    #mu_x = np.resize(mu_x,(4,e));\n",
    "    \n",
    "    #for u in range(4):\n",
    "    #    Smu[u][:,x] = np.sum(mu_x, axis=0) # sum margin variables over the 4 labeling losses\n",
    "    #    Rmu[u][:,x] = mu_x[u,:] # take only the loss associated to the specific label tested\n",
    "    #\n",
    "    \n",
    "    term12 = np.zeros((1, e))\n",
    "    term34 = np.zeros((4, e)) #Kx.shape[1]))\n",
    "    \n",
    "    if Rmu == []:\n",
    "        for u in range(4):\n",
    "            Smu.append(np.zeros((e,m)))\n",
    "            Rmu.append(np.zeros((e,m)))\n",
    "    \n",
    "    for u in range(4):\n",
    "        Ind_te_u = IndEdgeVal[u][:,x] # loss of edges for this label, associated to the moledule x (boolean)\n",
    "        H_u = Smu[u].dot(Kx)- Rmu[u].dot(Kx)\n",
    "    \n",
    "        term12[0,Ind_te_u] = H_u[Ind_te_u].T\n",
    "        term34[u,:] = - H_u.T\n",
    "    \n",
    "    term12 = np.repeat(np.expand_dims(term12,axis=0), 4, axis=0)\n",
    "    \n",
    "    Kmu_x = np.resize(term12 + term34, (4*e,1))\n",
    "    return Kmu_x\n",
    "\n"
   ]
  },
  {
   "cell_type": "markdown",
   "metadata": {},
   "source": [
    "**K_mu**"
   ]
  },
  {
   "cell_type": "code",
   "execution_count": 1018,
   "metadata": {
    "collapsed": false
   },
   "outputs": [],
   "source": [
    "def compute_Kmu(Kx, E, IndEdgeVal, Smu, Rmu, mu0):\n",
    "    \"\"\"\n",
    "    Complete gradient\n",
    "    \"\"\"\n",
    "\n",
    "    m, m_oup = Kx.shape\n",
    "\n",
    "    if 0: # and(params.debugging, nargin == 2) ????\n",
    "    \n",
    "        for x in range(m):\n",
    "            Kmu[:,x] = compute_Kmu_x(x, Kx[:,x], E, IndEdgeVal, Smu, Rmu)\n",
    "\n",
    "        Kmu = np.resize(Kmu, (4,e*m))\n",
    "    else:\n",
    "\n",
    "        mu0 = np.resize(mu0, (4,e*m))\n",
    "        Smu = np.resize(np.sum(mu0, 0),(e,m))\n",
    "        term12 = np.zeros((1,e*m_oup))\n",
    "        Kmu = np.zeros((4,e*m_oup))\n",
    "\n",
    "        for u in range(4):\n",
    "            IndEVu = IndEdgeVal[u]\n",
    "            Rmu_u = np.resize(mu0[u,:], (e,m))\n",
    "            H_u = Smu*IndEVu\n",
    "            H_u = H_u - Rmu_u\n",
    "            Q_u = H_u.dot(Kx) # CHECK\n",
    "\n",
    "            term12 = term12 + np.resize(Q_u*IndEVu, (1,e*m_oup))\n",
    "            Kmu[u,:] = np.resize(-Q_u, (1,e*m_oup))\n",
    "\n",
    "        for u in range(4):\n",
    "            Kmu[u,:] = Kmu[u,:] + term12\n",
    "    \n",
    "    return Kmu"
   ]
  },
  {
   "cell_type": "code",
   "execution_count": 1019,
   "metadata": {
    "collapsed": false
   },
   "outputs": [],
   "source": [
    "import time\n",
    "\n",
    "class profile():\n",
    "    \"\"\"\n",
    "    EXECUTION PROFILING\n",
    "    \"\"\"\n",
    "    \n",
    "    def __init__(self):\n",
    "        self.start_time = time.time()\n",
    "        self.next_profile_tm = self.start_time\n",
    "        self.n_err = 0\n",
    "        self.p_err = 0\n",
    "        self.n_err_microlbl = 0\n",
    "        self.p_err_microlbl = 0 \n",
    "        self.n_err_microlbl_prev = 0\n",
    "        self.microlabel_errors = []\n",
    "        self.it = 0\n",
    "        self.err_ts = 0\n",
    "        \n",
    "    def profile_update(self, Ye, obj, mu, primal_ub, params):\n",
    "        \n",
    "        m = Ye.shape[1]\n",
    "        tm = time.time()\n",
    "\n",
    "        print('alg: M3LBP tm: %d  iter: %d obj: %s mu: max %s min %s dgap: %s'\n",
    "        %(np.round(tm-self.start_time), self.it, obj, np.max(mu), np.min(mu), primal_ub-obj))\n",
    "        \n",
    "        ### COMPLETE WHEN RUNNING TO DISPLAY MORE INFORMATION\n"
   ]
  },
  {
   "cell_type": "code",
   "execution_count": 1020,
   "metadata": {
    "collapsed": true
   },
   "outputs": [],
   "source": [
    "class params():\n",
    "    \n",
    "    def __init__(self, C, epsilon, tolerance, max_iter, max_CGD_iter, max_LBP_iter, profiling, profile_tm_interval, verbosity, debugging):\n",
    "        self.C = C\n",
    "        self.epsilon = epsilon\n",
    "        self.tolerance = tolerance\n",
    "        self.max_iter = max_iter\n",
    "        self.max_CGD_iter = max_CGD_iter\n",
    "        self.max_LBP_iter = max_LBP_iter\n",
    "        self.profiling = profiling\n",
    "        self.profile_tm_interval = profile_tm_interval\n",
    "        self.verbosity = verbosity\n",
    "        self.debugging = debugging"
   ]
  },
  {
   "cell_type": "code",
   "execution_count": 1021,
   "metadata": {
    "collapsed": false
   },
   "outputs": [],
   "source": [
    "parameters = params(C = 100,\n",
    "                    epsilon = 1e-6,\n",
    "                    tolerance = 1e-6,\n",
    "                    max_iter = 10,\n",
    "                    max_CGD_iter = 10,\n",
    "                    max_LBP_iter = 10,\n",
    "                    profiling = True,\n",
    "                    profile_tm_interval = True,\n",
    "                    verbosity = True,\n",
    "                    debugging = False)"
   ]
  },
  {
   "cell_type": "code",
   "execution_count": 1022,
   "metadata": {
    "collapsed": false
   },
   "outputs": [],
   "source": [
    "def learn_MMCRF(Kx_tr, Y_tr, G, params):\n",
    "\n",
    "    \"\"\"\n",
    "    Input data assumed by the algorithm\n",
    "    \n",
    "    Kx_tr        X-kernel, assume to be positive semidefinite and normalized (Kx_tr(i,i) = 1)\n",
    "    Y_tr         Y-data: assumed to be class labels encoded {-1,+1}\n",
    "    G            graph of the Markov network e_i = [E(i,1),E(i,2)]\n",
    "    \n",
    "    params       parameters used by the learning algorithm\n",
    "\n",
    "    loss         losses associated with different edge labelings\n",
    "    mu           marginal dual variables: these are the parameters to be learned\n",
    "\n",
    "    m            number of training instances\n",
    "    l            number of labels\n",
    "    Ye           Denotes the edge-labelings 1 <-- [-1,-1], 2 <-- [-1,+1], 3 <-- [+1,-1], 4 <-- [+1,+1]\n",
    "    IndEdgeVal   IndEdgeVal{u} = [Ye == u] \n",
    "    Kmu          Kx_tr*mu\n",
    "\n",
    "    primal_ub\n",
    "    profile\n",
    "    obj\n",
    "    params\n",
    "    opt_round\n",
    "    \"\"\"\n",
    "    \n",
    "    \"\"\"\n",
    "    E            edges of the Markov network e_i = [E(i,1),E(i,2)]\n",
    "    \"\"\"\n",
    "    E = G.edges() \n",
    "    e = len(E)\n",
    " \n",
    "    #optimizer_init()\n",
    "    vprofile = profile()\n",
    "\n",
    "    l = Y_tr.shape[1]\n",
    "    m = Kx_tr.shape[0]\n",
    "    mu = np.zeros((4*e,m))\n",
    "    loss = compute_loss_vector(E, Y_tr) # automatic scaling\n",
    "\n",
    "    ' Matrices for speeding up gradient computations '\n",
    "    Ye = np.resize(loss == 0, (4,e*m))\n",
    "    \n",
    "    IndEdgeVal = []\n",
    "    for u in range(4):\n",
    "        IndEdgeVal.append(np.resize(Ye[u,:]!=0, (e,m)))\n",
    "\n",
    "    ' Initialization of variables '\n",
    "    MBProp = np.zeros((2*e, 2*e)) # for edge to edge propagation\n",
    "    MBPropEdgeNode = np.zeros((2*e, l)) # for edge to node propagation\n",
    "    Rmu = []\n",
    "    Smu = []\n",
    "\n",
    "    Ye = np.resize(Ye, (4*e,m))\n",
    "    Kxx_mu_x = np.zeros((4*e,m))\n",
    "    Kmu = np.zeros((4*e*m,1)) # ??? good shape ?\n",
    "\n",
    "    print('Starting descent...');\n",
    "    obj = 0; primal_ub = float('inf'); it = 0; opt_round = 1;\n",
    "    vprofile.profile_update(Ye, obj, mu, primal_ub, params)\n",
    "    prev_obj = 0\n",
    "\n",
    "    ' repeat until working set converged and close to optima '\n",
    "    while (primal_ub - obj > params.epsilon*obj): #, vprofile.n_err_microlbl != vprofile.n_err_microlbl_prev):\n",
    "  \n",
    "        progress_made = 0\n",
    "        print('Conditional gradient optimization...')\n",
    "        for x in range(m):\n",
    "            ' obtain initial gradient for x : Kmu_x '\n",
    "            Kmu_x = compute_Kmu_x(x, Kx_tr[:,x], E, IndEdgeVal, Smu, Rmu)  \n",
    "\n",
    "            ' conditional gradient optimization on x '\n",
    "            mu_x[:,k], Kxx_mu_x[:,x], obj, x_iter, Rmu, Smu = \\\n",
    "            optimize_x(E, l, Y_tr, MBProp, MBPropEdgeNode, Rmu, Smu, IndEdgeVal, x, obj, mu[:,x], Kmu_x, Kxx_mu_x[:,x], loss[:,x], Ye[:,x], parameters)\n",
    "\n",
    "            it = it + x_iter\n",
    "            vprofile.it = it; \n",
    "\n",
    "            if parameters.verbosity:\n",
    "                vprofile.profile_update(Ye, obj, mu, primal_ub, params)\n",
    "\n",
    "                \n",
    "        print('Current full gradient...')\n",
    "        Kmu = compute_Kmu(Kx_tr, E, IndEdgeVal, Smu, Rmu, mu) # mu0=mu ???\n",
    "        \n",
    "        progress_made = (obj > prev_obj)\n",
    "        if progress_made:\n",
    "            prev_obj = obj\n",
    "            prev_mu = mu\n",
    "        else: # restore previous solution and finish\n",
    "            mu = prev_mu\n",
    "            Kmu = compute_Kmu(Kx_tr, E, IndEdgeVal, Smu, Rmu, mu)\n",
    "            obj = mu.T.dot(loss) - mu.T.dot(Kmu)/2 \n",
    "\n",
    "        print('Duality gap and primal upper bound')\n",
    "        dgap, primal_ub = compute_duality_gap(E, Y_tr, loss, Kmu, mu, primal_ub)\n",
    "\n",
    "        vprofile.profile_update(Ye, obj, mu, primal_ub, params)\n",
    "\n",
    "        opt_round = opt_round + 1;\n",
    "        if np.logical_or(opt_round > params.maxiter, progress_made == 0):\n",
    "            vprofile.next_profile_tm = 0\n",
    "            vprofile_update()\n",
    "            break\n",
    "\n",
    "    return mu"
   ]
  },
  {
   "cell_type": "code",
   "execution_count": 1023,
   "metadata": {
    "collapsed": false
   },
   "outputs": [
    {
     "name": "stdout",
     "output_type": "stream",
     "text": [
      "Computing loss vector...\n",
      "plop\n",
      "Starting descent...\n",
      "alg: M3LBP tm: 0  iter: 0 obj: 0 mu: max 0.0 min 0.0 dgap: inf\n",
      "Conditional gradient optimization...\n"
     ]
    },
    {
     "name": "stderr",
     "output_type": "stream",
     "text": [
      "C:\\Users\\Paul\\Anaconda4\\lib\\site-packages\\ipykernel\\__main__.py:28: DeprecationWarning: assignment will raise an error in the future, most likely because your index result shape does not match the value array shape. You can use `arr.flat[index] = values` to keep the old behaviour.\n"
     ]
    },
    {
     "name": "stdout",
     "output_type": "stream",
     "text": [
      "(232,) (232,) (232,)\n",
      "2534.72222222 610000.0\n",
      "(232,) (232,) (232,)\n",
      "2524.18973576 604941.088042\n",
      "(232,) (232,) (232,)\n",
      "2513.65724929 599903.241057\n",
      "(232,) (232,) (232,)\n",
      "2503.12476283 594886.459045\n",
      "(232,) (232,) (232,)\n",
      "2492.59227636 589890.742006\n",
      "(232,) (232,) (232,)\n",
      "2482.0597899 584916.089939\n",
      "(232,) (232,) (232,)\n",
      "2471.52730343 579962.502846\n",
      "(232,) (232,) (232,)\n",
      "2460.99481697 575029.980726\n",
      "(232,) (232,) (232,)\n",
      "2450.4623305 570118.523578\n",
      "(232,) (232,) (232,)\n",
      "2439.92984403 565228.131404\n"
     ]
    },
    {
     "ename": "IndexError",
     "evalue": "too many indices for array",
     "output_type": "error",
     "traceback": [
      "\u001b[1;31m\u001b[0m",
      "\u001b[1;31mIndexError\u001b[0mTraceback (most recent call last)",
      "\u001b[1;32m<ipython-input-1023-61ff23b4dabf>\u001b[0m in \u001b[0;36m<module>\u001b[1;34m()\u001b[0m\n\u001b[1;32m----> 1\u001b[1;33m \u001b[0mlearn_MMCRF\u001b[0m\u001b[1;33m(\u001b[0m\u001b[0mKx\u001b[0m\u001b[1;33m,\u001b[0m \u001b[0my_label\u001b[0m\u001b[1;33m,\u001b[0m \u001b[0mG\u001b[0m\u001b[1;33m,\u001b[0m \u001b[0mparameters\u001b[0m\u001b[1;33m)\u001b[0m\u001b[1;33m\u001b[0m\u001b[0m\n\u001b[0m",
      "\u001b[1;32m<ipython-input-1022-777fe27b78d5>\u001b[0m in \u001b[0;36mlearn_MMCRF\u001b[1;34m(Kx_tr, Y_tr, G, params)\u001b[0m\n\u001b[0;32m     72\u001b[0m \u001b[1;33m\u001b[0m\u001b[0m\n\u001b[0;32m     73\u001b[0m             \u001b[1;34m' conditional gradient optimization on x '\u001b[0m\u001b[1;33m\u001b[0m\u001b[0m\n\u001b[1;32m---> 74\u001b[1;33m             \u001b[0mmu_x\u001b[0m\u001b[1;33m[\u001b[0m\u001b[1;33m:\u001b[0m\u001b[1;33m,\u001b[0m\u001b[0mk\u001b[0m\u001b[1;33m]\u001b[0m\u001b[1;33m,\u001b[0m \u001b[0mKxx_mu_x\u001b[0m\u001b[1;33m[\u001b[0m\u001b[1;33m:\u001b[0m\u001b[1;33m,\u001b[0m\u001b[0mx\u001b[0m\u001b[1;33m]\u001b[0m\u001b[1;33m,\u001b[0m \u001b[0mobj\u001b[0m\u001b[1;33m,\u001b[0m \u001b[0mx_iter\u001b[0m\u001b[1;33m,\u001b[0m \u001b[0mRmu\u001b[0m\u001b[1;33m,\u001b[0m \u001b[0mSmu\u001b[0m \u001b[1;33m=\u001b[0m             \u001b[0moptimize_x\u001b[0m\u001b[1;33m(\u001b[0m\u001b[0mE\u001b[0m\u001b[1;33m,\u001b[0m \u001b[0ml\u001b[0m\u001b[1;33m,\u001b[0m \u001b[0mY_tr\u001b[0m\u001b[1;33m,\u001b[0m \u001b[0mMBProp\u001b[0m\u001b[1;33m,\u001b[0m \u001b[0mMBPropEdgeNode\u001b[0m\u001b[1;33m,\u001b[0m \u001b[0mRmu\u001b[0m\u001b[1;33m,\u001b[0m \u001b[0mSmu\u001b[0m\u001b[1;33m,\u001b[0m \u001b[0mIndEdgeVal\u001b[0m\u001b[1;33m,\u001b[0m \u001b[0mx\u001b[0m\u001b[1;33m,\u001b[0m \u001b[0mobj\u001b[0m\u001b[1;33m,\u001b[0m \u001b[0mmu\u001b[0m\u001b[1;33m[\u001b[0m\u001b[1;33m:\u001b[0m\u001b[1;33m,\u001b[0m\u001b[0mx\u001b[0m\u001b[1;33m]\u001b[0m\u001b[1;33m,\u001b[0m \u001b[0mKmu_x\u001b[0m\u001b[1;33m,\u001b[0m \u001b[0mKxx_mu_x\u001b[0m\u001b[1;33m[\u001b[0m\u001b[1;33m:\u001b[0m\u001b[1;33m,\u001b[0m\u001b[0mx\u001b[0m\u001b[1;33m]\u001b[0m\u001b[1;33m,\u001b[0m \u001b[0mloss\u001b[0m\u001b[1;33m[\u001b[0m\u001b[1;33m:\u001b[0m\u001b[1;33m,\u001b[0m\u001b[0mx\u001b[0m\u001b[1;33m]\u001b[0m\u001b[1;33m,\u001b[0m \u001b[0mYe\u001b[0m\u001b[1;33m[\u001b[0m\u001b[1;33m:\u001b[0m\u001b[1;33m,\u001b[0m\u001b[0mx\u001b[0m\u001b[1;33m]\u001b[0m\u001b[1;33m,\u001b[0m \u001b[0mparameters\u001b[0m\u001b[1;33m)\u001b[0m\u001b[1;33m\u001b[0m\u001b[0m\n\u001b[0m\u001b[0;32m     75\u001b[0m \u001b[1;33m\u001b[0m\u001b[0m\n\u001b[0;32m     76\u001b[0m             \u001b[0mit\u001b[0m \u001b[1;33m=\u001b[0m \u001b[0mit\u001b[0m \u001b[1;33m+\u001b[0m \u001b[0mx_iter\u001b[0m\u001b[1;33m\u001b[0m\u001b[0m\n",
      "\u001b[1;32m<ipython-input-1015-8f8ad5b5c567>\u001b[0m in \u001b[0;36moptimize_x\u001b[1;34m(E, n_nodes, Y_tr, MBProp, MBPropEdgeNode, Rmu, Smu, IndEdgeVal, x, obj, mu_x, Kmu_x, kxx_mu_x, loss_x, te_x, params)\u001b[0m\n\u001b[0;32m     77\u001b[0m     \u001b[1;32mfor\u001b[0m \u001b[0mu\u001b[0m \u001b[1;32min\u001b[0m \u001b[0mrange\u001b[0m\u001b[1;33m(\u001b[0m\u001b[1;36m4\u001b[0m\u001b[1;33m)\u001b[0m\u001b[1;33m:\u001b[0m\u001b[1;33m\u001b[0m\u001b[0m\n\u001b[0;32m     78\u001b[0m         \u001b[0mSmu\u001b[0m\u001b[1;33m[\u001b[0m\u001b[0mu\u001b[0m\u001b[1;33m]\u001b[0m\u001b[1;33m[\u001b[0m\u001b[1;33m:\u001b[0m\u001b[1;33m,\u001b[0m\u001b[0mx\u001b[0m\u001b[1;33m]\u001b[0m \u001b[1;33m=\u001b[0m \u001b[0mnp\u001b[0m\u001b[1;33m.\u001b[0m\u001b[0msum\u001b[0m\u001b[1;33m(\u001b[0m\u001b[0mmu_x\u001b[0m\u001b[1;33m)\u001b[0m\u001b[1;33m.\u001b[0m\u001b[0mT\u001b[0m\u001b[1;33m*\u001b[0m\u001b[0mIndEdgeVal\u001b[0m\u001b[1;33m[\u001b[0m\u001b[0mu\u001b[0m\u001b[1;33m]\u001b[0m\u001b[1;33m[\u001b[0m\u001b[1;33m:\u001b[0m\u001b[1;33m,\u001b[0m\u001b[0mx\u001b[0m\u001b[1;33m]\u001b[0m\u001b[1;33m\u001b[0m\u001b[0m\n\u001b[1;32m---> 79\u001b[1;33m         \u001b[0mRmu\u001b[0m\u001b[1;33m[\u001b[0m\u001b[0mu\u001b[0m\u001b[1;33m]\u001b[0m\u001b[1;33m[\u001b[0m\u001b[1;33m:\u001b[0m\u001b[1;33m,\u001b[0m\u001b[0mx\u001b[0m\u001b[1;33m]\u001b[0m \u001b[1;33m=\u001b[0m \u001b[0mmu_x\u001b[0m\u001b[1;33m[\u001b[0m\u001b[0mu\u001b[0m\u001b[1;33m,\u001b[0m\u001b[1;33m:\u001b[0m\u001b[1;33m]\u001b[0m\u001b[1;33m.\u001b[0m\u001b[0mT\u001b[0m\u001b[1;33m\u001b[0m\u001b[0m\n\u001b[0m\u001b[0;32m     80\u001b[0m \u001b[1;33m\u001b[0m\u001b[0m\n\u001b[0;32m     81\u001b[0m     \u001b[0mmu_x\u001b[0m \u001b[1;33m=\u001b[0m \u001b[0mnp\u001b[0m\u001b[1;33m.\u001b[0m\u001b[0mresize\u001b[0m\u001b[1;33m(\u001b[0m\u001b[0mmu_x\u001b[0m\u001b[1;33m,\u001b[0m \u001b[1;33m(\u001b[0m\u001b[1;36m4\u001b[0m\u001b[1;33m*\u001b[0m\u001b[0me\u001b[0m\u001b[1;33m,\u001b[0m\u001b[1;36m1\u001b[0m\u001b[1;33m)\u001b[0m\u001b[1;33m)\u001b[0m\u001b[1;33m\u001b[0m\u001b[0m\n",
      "\u001b[1;31mIndexError\u001b[0m: too many indices for array"
     ]
    }
   ],
   "source": [
    "learn_MMCRF(Kx, y_label, G, parameters)"
   ]
  },
  {
   "cell_type": "code",
   "execution_count": null,
   "metadata": {
    "collapsed": false
   },
   "outputs": [],
   "source": [
    "(a==2)*100"
   ]
  },
  {
   "cell_type": "code",
   "execution_count": null,
   "metadata": {
    "collapsed": false
   },
   "outputs": [],
   "source": [
    "a = np.array([[1,2,3]])\n",
    "b = np.array([[7,8,9],[10,11,12]])\n",
    "\n",
    "a[[0 for i in range(4)],:]"
   ]
  },
  {
   "cell_type": "markdown",
   "metadata": {},
   "source": [
    "### 3.2.2. Global variables and algorithm"
   ]
  },
  {
   "cell_type": "code",
   "execution_count": 16,
   "metadata": {
    "collapsed": false
   },
   "outputs": [
    {
     "name": "stdout",
     "output_type": "stream",
     "text": [
      "Computing loss vector...\n"
     ]
    }
   ],
   "source": [
    "E = G.edges()\n",
    "l = y_label.shape[1]\n",
    "m = Kx.shape[0]\n",
    "mu = np.zeros((4*len(E),m))"
   ]
  },
  {
   "cell_type": "code",
   "execution_count": 85,
   "metadata": {
    "collapsed": false
   },
   "outputs": [],
   "source": [
    "\"\"\"For speeding up gradient computations: j'ai pas trop réussi bein à comprendre le rôle de ces variables...\"\"\"\n",
    "Smu = {}\n",
    "Rmu = {}\n",
    "for u in [0,1,2,3]:\n",
    "    Smu[u] = np.zeros((len(E),m))\n",
    "    Rmu[u] = np.zeros((len(E),m))\n"
   ]
  },
  {
   "cell_type": "code",
   "execution_count": null,
   "metadata": {
    "collapsed": true
   },
   "outputs": [],
   "source": [
    "\"\"\"Using above functions\"\"\"\n",
    "loss = compute_loss_vector(G, y_label)\n",
    "compute_Kmu_x(0,Kx,E, Smu, Rmu, mu[:,0])"
   ]
  },
  {
   "cell_type": "code",
   "execution_count": 17,
   "metadata": {
    "collapsed": false
   },
   "outputs": [],
   "source": [
    "\"\"\"Get edges labeling (among 4 possible values) as boolean\"\"\"\n",
    "\"\"\"Ye: Denotes the edge-labelings 0 <-- [-1,-1], 1 <-- [-1,+1], 2 <-- [+1,-1], 3 <-- [+1,+1]\"\"\"\n",
    "\n",
    "Ye = np.resize(loss == 0,(4,len(E)*m))\n",
    "\n",
    "IndEdgeVal = {}\n",
    "for u in [0,1,2,3]:\n",
    "    IndEdgeVal[u] = np.resize(Ye[u,:]!=0,(len(E),m));\n",
    "\n",
    "Ye = np.resize(Ye,(4*len(E),m))"
   ]
  },
  {
   "cell_type": "code",
   "execution_count": 95,
   "metadata": {
    "collapsed": true
   },
   "outputs": [],
   "source": [
    "# TO BE CONTINUED..."
   ]
  },
  {
   "cell_type": "code",
   "execution_count": null,
   "metadata": {
    "collapsed": true
   },
   "outputs": [],
   "source": []
  },
  {
   "cell_type": "code",
   "execution_count": null,
   "metadata": {
    "collapsed": true
   },
   "outputs": [],
   "source": []
  },
  {
   "cell_type": "code",
   "execution_count": null,
   "metadata": {
    "collapsed": true
   },
   "outputs": [],
   "source": []
  },
  {
   "cell_type": "code",
   "execution_count": null,
   "metadata": {
    "collapsed": true
   },
   "outputs": [],
   "source": [
    "\n",
    "\n",
    "\n"
   ]
  },
  {
   "cell_type": "code",
   "execution_count": null,
   "metadata": {
    "collapsed": true
   },
   "outputs": [],
   "source": []
  },
  {
   "cell_type": "code",
   "execution_count": null,
   "metadata": {
    "collapsed": true
   },
   "outputs": [],
   "source": []
  }
 ],
 "metadata": {
  "anaconda-cloud": {},
  "kernelspec": {
   "display_name": "Python [Root]",
   "language": "python",
   "name": "Python [Root]"
  },
  "language_info": {
   "codemirror_mode": {
    "name": "ipython",
    "version": 3
   },
   "file_extension": ".py",
   "mimetype": "text/x-python",
   "name": "python",
   "nbconvert_exporter": "python",
   "pygments_lexer": "ipython3",
   "version": "3.5.2"
  }
 },
 "nbformat": 4,
 "nbformat_minor": 1
}
